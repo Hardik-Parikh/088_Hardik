{
 "cells": [
  {
   "cell_type": "markdown",
   "source": [
    "# Write a python program to perform K-Means clustering on Breast Cancer Data"
   ],
   "metadata": {}
  },
  {
   "cell_type": "code",
   "execution_count": 26,
   "source": [
    "import numpy as np\r\n",
    "import pandas as pd\r\n",
    "import matplotlib.pyplot as plt\r\n",
    "from sklearn.metrics import confusion_matrix, accuracy_score\r\n",
    "from sklearn import datasets\r\n",
    "from sklearn.cluster import KMeans"
   ],
   "outputs": [],
   "metadata": {}
  },
  {
   "cell_type": "code",
   "execution_count": 27,
   "source": [
    "dataset = datasets.load_breast_cancer()\r\n",
    "print(f\"Shape: {dataset.data.shape}\")\r\n",
    "print(f\"Target Shape: {dataset.target.shape}\")\r\n",
    "print(f\"Features: {dataset.feature_names}\")\r\n",
    "print(f\"Target Names: {dataset.target_names}\")"
   ],
   "outputs": [
    {
     "output_type": "stream",
     "name": "stdout",
     "text": [
      "Shape: (569, 30)\n",
      "Target Shape: (569,)\n",
      "Features: ['mean radius' 'mean texture' 'mean perimeter' 'mean area'\n",
      " 'mean smoothness' 'mean compactness' 'mean concavity'\n",
      " 'mean concave points' 'mean symmetry' 'mean fractal dimension'\n",
      " 'radius error' 'texture error' 'perimeter error' 'area error'\n",
      " 'smoothness error' 'compactness error' 'concavity error'\n",
      " 'concave points error' 'symmetry error' 'fractal dimension error'\n",
      " 'worst radius' 'worst texture' 'worst perimeter' 'worst area'\n",
      " 'worst smoothness' 'worst compactness' 'worst concavity'\n",
      " 'worst concave points' 'worst symmetry' 'worst fractal dimension']\n",
      "Target Names: ['malignant' 'benign']\n"
     ]
    }
   ],
   "metadata": {}
  },
  {
   "cell_type": "code",
   "execution_count": 28,
   "source": [
    "# 0 means benign and 1 means malignant\r\n",
    "plt.scatter(dataset.data[:,0], dataset.target, c='red', marker=\"*\")\r\n",
    "plt.xlabel(\"Features\")\r\n",
    "plt.ylabel(\"Cancer Type\")\r\n",
    "plt.show()"
   ],
   "outputs": [
    {
     "output_type": "display_data",
     "data": {
      "image/png": "[encoded data removed]",
      "text/plain": [
       "<Figure size 432x288 with 1 Axes>"
      ]
     },
     "metadata": {
      "needs_background": "light"
     }
    }
   ],
   "metadata": {}
  },
  {
   "cell_type": "code",
   "execution_count": 29,
   "source": [
    "kmeans = KMeans(n_clusters=3, random_state=88)\r\n",
    "prediction = kmeans.fit_predict(dataset.data)\r\n",
    "print(prediction)"
   ],
   "outputs": [
    {
     "output_type": "stream",
     "name": "stdout",
     "text": [
      "[1 1 1 0 1 0 1 0 0 0 1 1 1 0 0 0 0 1 2 0 0 0 0 2 1 1 0 1 1 1 1 0 1 1 1 1 0\n",
      " 0 0 0 0 0 1 0 0 1 0 0 0 0 0 0 0 1 0 0 1 0 0 0 0 0 0 0 0 0 0 0 0 0 1 0 1 0\n",
      " 0 1 0 1 1 0 0 0 2 1 0 1 0 1 0 0 0 0 0 0 0 1 0 0 0 0 0 0 0 0 0 0 0 0 2 0 0\n",
      " 0 0 0 0 0 0 0 1 1 0 1 2 0 0 0 0 1 0 1 0 1 1 0 1 0 0 0 0 0 0 1 0 0 0 0 0 0\n",
      " 0 0 0 0 0 0 0 0 1 1 0 0 0 1 1 0 2 0 0 1 1 0 0 0 0 0 0 0 0 0 0 0 2 1 1 0 0\n",
      " 0 1 0 0 0 0 0 0 0 0 0 0 1 1 0 0 1 1 0 0 0 0 1 0 0 1 0 2 1 0 0 0 0 1 2 0 0\n",
      " 0 0 0 0 0 0 0 0 1 0 0 1 0 0 2 1 0 1 0 0 0 0 1 0 0 0 0 0 1 0 1 1 1 0 1 0 1\n",
      " 0 1 1 1 0 1 2 0 0 0 0 0 0 2 0 1 0 0 1 0 0 1 0 1 0 0 0 0 0 0 0 0 0 0 0 0 0\n",
      " 0 0 0 0 1 0 1 0 0 0 0 0 0 0 0 0 0 0 0 0 0 1 0 0 0 1 0 1 0 0 0 0 1 0 0 0 0\n",
      " 0 0 1 0 1 0 2 0 0 0 1 0 0 0 0 0 0 0 0 2 0 0 0 0 0 0 0 0 0 0 0 0 1 1 0 2 2\n",
      " 1 0 1 1 0 0 0 0 0 0 0 0 0 0 0 0 0 0 0 1 0 0 1 1 0 0 0 0 0 0 1 0 0 0 0 0 0\n",
      " 0 1 0 0 0 0 0 0 0 0 1 0 0 0 0 0 0 0 0 0 0 0 0 0 0 1 1 0 0 0 0 0 0 0 1 0 0\n",
      " 1 0 1 0 0 1 0 1 0 0 0 0 0 0 0 0 1 2 0 0 0 0 0 0 1 0 0 0 0 0 0 0 0 0 0 0 0\n",
      " 0 0 0 0 0 0 1 0 1 0 1 1 0 0 0 0 0 1 1 0 0 0 2 0 0 0 0 0 0 0 0 0 0 0 0 1 1\n",
      " 0 0 0 2 0 0 0 0 0 0 0 0 0 0 0 1 0 1 0 0 0 0 0 0 0 0 0 0 0 0 0 0 0 0 0 0 0\n",
      " 0 0 0 0 0 0 0 0 1 1 1 1 1 0]\n"
     ]
    }
   ],
   "metadata": {}
  },
  {
   "cell_type": "code",
   "execution_count": 30,
   "source": [
    "print(kmeans.cluster_centers_.shape)\r\n",
    "print(kmeans.cluster_centers_)"
   ],
   "outputs": [
    {
     "output_type": "stream",
     "name": "stdout",
     "text": [
      "(3, 30)\n",
      "[[1.24751725e+01 1.84901166e+01 8.05764103e+01 4.88859207e+02\n",
      "  9.49148252e-02 9.07750117e-02 6.15064119e-02 3.29390303e-02\n",
      "  1.77986946e-01 6.35734266e-02 3.01556410e-01 1.21532704e+00\n",
      "  2.13489441e+00 2.33540979e+01 7.15913287e-03 2.33434848e-02\n",
      "  2.84384956e-02 1.05576713e-02 2.06707646e-02 3.74588648e-03\n",
      "  1.39398578e+01 2.45990443e+01 9.12271096e+01 6.09272261e+02\n",
      "  1.30029254e-01 2.22372145e-01 2.16939503e-01 9.04745711e-02\n",
      "  2.82924942e-01 8.33942191e-02]\n",
      " [1.85285124e+01 2.15790909e+01 1.22283471e+02 1.07481240e+03\n",
      "  1.00261240e-01 1.41826612e-01 1.61977355e-01 9.20814050e-02\n",
      "  1.91676860e-01 6.06204959e-02 6.49142149e-01 1.21641983e+00\n",
      "  4.56371901e+00 7.68210744e+01 6.61174380e-03 3.13276529e-02\n",
      "  4.16239669e-02 1.55374463e-02 2.01668595e-02 3.96714050e-03\n",
      "  2.23823967e+01 2.87747107e+01 1.49064463e+02 1.54647107e+03\n",
      "  1.39227107e-01 3.46117851e-01 4.31357851e-01 1.82432645e-01\n",
      "  3.15462810e-01 8.62268595e-02]\n",
      " [2.34015789e+01 2.27621053e+01 1.56147368e+02 1.72942105e+03\n",
      "  1.04154211e-01 1.71922105e-01 2.39015789e-01 1.34857895e-01\n",
      "  1.85884211e-01 5.91452632e-02 1.19100000e+00 1.25407895e+00\n",
      "  8.56357895e+00 1.91449474e+02 7.10673684e-03 3.64242105e-02\n",
      "  4.79426316e-02 1.59331579e-02 2.00326316e-02 3.80478947e-03\n",
      "  2.99315789e+01 3.02952632e+01 2.03073684e+02 2.76584211e+03\n",
      "  1.41510526e-01 3.89415789e-01 5.05994737e-01 2.27526316e-01\n",
      "  2.89852632e-01 8.18736842e-02]]\n"
     ]
    }
   ],
   "metadata": {}
  },
  {
   "cell_type": "code",
   "execution_count": 31,
   "source": [
    "plt.scatter(dataset.data[:, 0], dataset.target, c='red', marker='*')\r\n",
    "plt.scatter(kmeans.cluster_centers_[:, 0], kmeans.cluster_centers_[:, 1], c='green', marker='+')\r\n",
    "plt.title('Data points and cluster centroids')\r\n",
    "plt.show()"
   ],
   "outputs": [
    {
     "output_type": "display_data",
     "data": {
      "image/png": "[encoded data removed]",
      "text/plain": [
       "<Figure size 432x288 with 1 Axes>"
      ]
     },
     "metadata": {
      "needs_background": "light"
     }
    }
   ],
   "metadata": {}
  },
  {
   "cell_type": "code",
   "execution_count": 32,
   "source": [
    "from scipy.stats import mode\r\n",
    "labels =np.zeros_like(prediction)\r\n",
    "for i in range(10):\r\n",
    "    mask = (prediction == i)\r\n",
    "    labels[mask] = mode(dataset.target[mask])[0]"
   ],
   "outputs": [],
   "metadata": {}
  },
  {
   "cell_type": "code",
   "execution_count": 33,
   "source": [
    "import seaborn as sns\r\n",
    "\r\n",
    "conf_mat = confusion_matrix(dataset.target, labels)\r\n",
    "ax = sns.heatmap(conf_mat.T, square=True, annot=True, cbar=False, \r\n",
    "                xticklabels=dataset.target_names, \r\n",
    "                yticklabels=dataset.target_names)\r\n",
    "plt.xlabel(\"True Label\")\r\n",
    "plt.ylabel(\"Predicted Label\")\r\n",
    "plt.show()"
   ],
   "outputs": [
    {
     "output_type": "display_data",
     "data": {
      "image/png": "[encoded data removed]",
      "text/plain": [
       "<Figure size 432x288 with 1 Axes>"
      ]
     },
     "metadata": {
      "needs_background": "light"
     }
    }
   ],
   "metadata": {}
  },
  {
   "cell_type": "code",
   "execution_count": 34,
   "source": [
    "print(f\"Accuracy score: {accuracy_score(dataset.target, labels)}\")"
   ],
   "outputs": [
    {
     "output_type": "stream",
     "name": "stdout",
     "text": [
      "Accuracy score: 0.8664323374340949\n"
     ]
    }
   ],
   "metadata": {}
  }
 ],
 "metadata": {
  "orig_nbformat": 4,
  "language_info": {
   "name": "python",
   "version": "3.9.2",
   "mimetype": "text/x-python",
   "codemirror_mode": {
    "name": "ipython",
    "version": 3
   },
   "pygments_lexer": "ipython3",
   "nbconvert_exporter": "python",
   "file_extension": ".py"
  },
  "kernelspec": {
   "name": "python3",
   "display_name": "Python 3.9.2 64-bit"
  },
  "interpreter": {
   "hash": "5d3bdf297df944d34b1a97ad44b06b41afb7df81ac17206bbaaada21786479bf"
  }
 },
 "nbformat": 4,
 "nbformat_minor": 2
}