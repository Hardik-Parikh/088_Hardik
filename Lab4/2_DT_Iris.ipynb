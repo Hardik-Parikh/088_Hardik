{
 "cells": [
  {
   "cell_type": "code",
   "execution_count": 1,
   "source": [
    "#Import scikit-learn dataset library\r\n",
    "from sklearn import datasets\r\n",
    "from sklearn.tree import DecisionTreeClassifier\r\n",
    "import pandas as pd\r\n",
    "import numpy as np\r\n",
    "\r\n",
    "#Load dataset\r\n",
    "iris = datasets.load_iris()"
   ],
   "outputs": [],
   "metadata": {
    "colab": {},
    "colab_type": "code",
    "executionInfo": {
     "elapsed": 1603,
     "status": "ok",
     "timestamp": 1596080371727,
     "user": {
      "displayName": "Prof. Hariom Pandya",
      "photoUrl": "https://lh3.googleusercontent.com/a-/AOh14Ggt3sg6X_951s0boD3SSJvqRng4AQaC3MhTBtGQ9Q=s64",
      "userId": "16159546014304882594"
     },
     "user_tz": -330
    },
    "id": "19-VWLo5dRM_"
   }
  },
  {
   "cell_type": "code",
   "execution_count": 2,
   "source": [
    "# print the names of the 13 features\r\n",
    "\r\n",
    "\r\n",
    "# print the label type of wine(class_0, class_1, class_2)\r\n",
    "\r\n",
    "\r\n",
    "# print data(feature)shape\r\n"
   ],
   "outputs": [],
   "metadata": {
    "colab": {},
    "colab_type": "code",
    "executionInfo": {
     "elapsed": 1571,
     "status": "ok",
     "timestamp": 1596080371731,
     "user": {
      "displayName": "Prof. Hariom Pandya",
      "photoUrl": "https://lh3.googleusercontent.com/a-/AOh14Ggt3sg6X_951s0boD3SSJvqRng4AQaC3MhTBtGQ9Q=s64",
      "userId": "16159546014304882594"
     },
     "user_tz": -330
    },
    "id": "STpVNWyrdRNb"
   }
  },
  {
   "cell_type": "code",
   "execution_count": 3,
   "source": [
    "#import the necessary module\r\n",
    "from sklearn.model_selection import train_test_split\r\n",
    "\r\n",
    "#split data set into train and test sets\r\n"
   ],
   "outputs": [],
   "metadata": {
    "colab": {},
    "colab_type": "code",
    "executionInfo": {
     "elapsed": 1563,
     "status": "ok",
     "timestamp": 1596080371735,
     "user": {
      "displayName": "Prof. Hariom Pandya",
      "photoUrl": "https://lh3.googleusercontent.com/a-/AOh14Ggt3sg6X_951s0boD3SSJvqRng4AQaC3MhTBtGQ9Q=s64",
      "userId": "16159546014304882594"
     },
     "user_tz": -330
    },
    "id": "SNoEzna3dRN2"
   }
  },
  {
   "cell_type": "code",
   "execution_count": 4,
   "source": [
    "#Create a Decision Tree Classifier (using Gini)\r\n",
    "\r\n",
    "\r\n",
    "#Train the model using the training sets\r\n"
   ],
   "outputs": [],
   "metadata": {
    "colab": {},
    "colab_type": "code",
    "executionInfo": {
     "elapsed": 1538,
     "status": "ok",
     "timestamp": 1596080371738,
     "user": {
      "displayName": "Prof. Hariom Pandya",
      "photoUrl": "https://lh3.googleusercontent.com/a-/AOh14Ggt3sg6X_951s0boD3SSJvqRng4AQaC3MhTBtGQ9Q=s64",
      "userId": "16159546014304882594"
     },
     "user_tz": -330
    },
    "id": "CRct6OrjdROI"
   }
  },
  {
   "cell_type": "code",
   "execution_count": 5,
   "source": [
    "# Predict the classes of test data\r\n",
    "\r\n",
    "\r\n",
    "#print(test_pred.dtype)\r\n",
    "from sklearn import metrics\r\n"
   ],
   "outputs": [],
   "metadata": {
    "colab": {},
    "colab_type": "code",
    "executionInfo": {
     "elapsed": 1516,
     "status": "ok",
     "timestamp": 1596080371741,
     "user": {
      "displayName": "Prof. Hariom Pandya",
      "photoUrl": "https://lh3.googleusercontent.com/a-/AOh14Ggt3sg6X_951s0boD3SSJvqRng4AQaC3MhTBtGQ9Q=s64",
      "userId": "16159546014304882594"
     },
     "user_tz": -330
    },
    "id": "EUmpqOTcdROY"
   }
  },
  {
   "cell_type": "code",
   "execution_count": 6,
   "source": [
    "# Model Accuracy, how often is the classifier correct?\r\n"
   ],
   "outputs": [],
   "metadata": {
    "colab": {},
    "colab_type": "code",
    "executionInfo": {
     "elapsed": 1499,
     "status": "ok",
     "timestamp": 1596080371744,
     "user": {
      "displayName": "Prof. Hariom Pandya",
      "photoUrl": "https://lh3.googleusercontent.com/a-/AOh14Ggt3sg6X_951s0boD3SSJvqRng4AQaC3MhTBtGQ9Q=s64",
      "userId": "16159546014304882594"
     },
     "user_tz": -330
    },
    "id": "ygJOfDiAdROs"
   }
  },
  {
   "cell_type": "code",
   "execution_count": 7,
   "source": [
    "from sklearn.tree import export_graphviz\r\n",
    "#export_graphviz(clf,out_file='iris_tree.dot',feature_names=list(iris.feature_names),\r\n",
    " #               class_names=list(iris.target_names), filled=True)\r\n",
    "\r\n",
    "# Convert to png\r\n",
    "#from subprocess import call\r\n",
    "#call(['dot', '-Tpng', 'iris_tree.dot', '-o', 'iris_tree.png', '-Gdpi=600'])"
   ],
   "outputs": [],
   "metadata": {
    "colab": {},
    "colab_type": "code",
    "executionInfo": {
     "elapsed": 1480,
     "status": "ok",
     "timestamp": 1596080371745,
     "user": {
      "displayName": "Prof. Hariom Pandya",
      "photoUrl": "https://lh3.googleusercontent.com/a-/AOh14Ggt3sg6X_951s0boD3SSJvqRng4AQaC3MhTBtGQ9Q=s64",
      "userId": "16159546014304882594"
     },
     "user_tz": -330
    },
    "id": "iCM3TyCqdRO7"
   }
  },
  {
   "cell_type": "code",
   "execution_count": 8,
   "source": [
    "# Display in python\r\n",
    "import matplotlib.pyplot as plt\r\n",
    "#plt.figure(figsize = (14, 18))\r\n",
    "#plt.imshow(plt.imread('iris_tree.png'))\r\n",
    "#plt.axis('off')\r\n",
    "#plt.show()"
   ],
   "outputs": [],
   "metadata": {
    "colab": {},
    "colab_type": "code",
    "executionInfo": {
     "elapsed": 2046,
     "status": "ok",
     "timestamp": 1596080372335,
     "user": {
      "displayName": "Prof. Hariom Pandya",
      "photoUrl": "https://lh3.googleusercontent.com/a-/AOh14Ggt3sg6X_951s0boD3SSJvqRng4AQaC3MhTBtGQ9Q=s64",
      "userId": "16159546014304882594"
     },
     "user_tz": -330
    },
    "id": "L40ny3qldRPJ"
   }
  },
  {
   "cell_type": "code",
   "execution_count": 8,
   "source": [],
   "outputs": [],
   "metadata": {
    "colab": {},
    "colab_type": "code",
    "executionInfo": {
     "elapsed": 2042,
     "status": "ok",
     "timestamp": 1596080372340,
     "user": {
      "displayName": "Prof. Hariom Pandya",
      "photoUrl": "https://lh3.googleusercontent.com/a-/AOh14Ggt3sg6X_951s0boD3SSJvqRng4AQaC3MhTBtGQ9Q=s64",
      "userId": "16159546014304882594"
     },
     "user_tz": -330
    },
    "id": "4Wr0rlC6dRPV"
   }
  },
  {
   "cell_type": "markdown",
   "source": [
    "**Exercise:**\r\n",
    "\r\n",
    "**1) 1<=Rollnumber<=25:**\r\n",
    "  #Task 1: Try the algo on Same Whether dataset - OneHotEncoding of features: and Train test Division 70%-30%\r\n",
    "\r\n",
    "  #Task 2: Apply algorithm on wine dataset - LabelEncoding of features: and Train test Division 80%-20%\r\n",
    "\r\n",
    "**2) 26<=Rollnumber<=50:**\r\n",
    "  #Task 1: Try the algo on Same Whether dataset - LabelEncoding of features: and Train test Division 80%-20% with Gini Index as attribute selection measure\r\n",
    "\r\n",
    "  #Task 2: Apply algorithm on digits dataset - One Hot Encoding of features: and Train test Division 65%-35%\r\n",
    "\r\n",
    "**3) 51<=Rollnumber<=75:**\r\n",
    "  #Task 1: Try the algo on Same Whether dataset- LabelEncoding of features: and Train test Division 90%-10%\r\n",
    "\r\n",
    "   #Task 2: Apply algorithm on breast cancer wisconsin dataset - One Hot Encoding of features: and Train test Division 60%-40%\r\n",
    "\r\n",
    "**4) 76<=Rollnumber<=100:**\r\n",
    "  ## Task 1: Try the algo on Same Whether dataset - OneHotEncoding of features: and Train test Division 75%-25%\r\n",
    "  ## Task 2: Apply algorithm on digits dataset - LabelEncoding of features: and Train test Division 80%-20%\r\n",
    "\r\n",
    "**5) 101<=Rollnumber<=125:**\r\n",
    "  #Task 1: Try the algo on Same Whether dataset - OneHotEncoding of features:and Train test Division 85%-15% and Gini Index as attribute selection measure\r\n",
    "\r\n",
    "   #Task 2: Apply algorithm on breast cancer wisconsin dataset - One Hot Encoding of features: and Train test Division 50%-50%\r\n",
    "\r\n",
    "**6) 126<=Rollnumber + All with No RollNumbers:**\r\n",
    "  #Task 1: Try the algo on Same Whether dataset - LabelEncoding of features:and Train test Division 95%-5%\r\n",
    "\r\n",
    "  #Task 2: Apply algorithm on wine dataset - LabelEncoding of features: and Train test Division 66%-34%\r\n",
    "  \r\n",
    "\r\n",
    "\r\n",
    "**Instruction for Task-1 & 2:**\r\n",
    "\r\n",
    "i) Set Random state and maximum allowed leaf of model equals to your roll number (or last 2 digit of your id -if you don't have roll number)\r\n",
    "\r\n",
    "\r\n",
    "**Questions: For Task - 1**\r\n",
    "\r\n",
    "(1) What will be the value of Play, if Outlook is ’Rainy’, Temperature is ’Mild’, Humidity =’Normal’, and Wind = ’False’?\r\n",
    "\r\n",
    "(2) What will be the value of Play, if Outlook is ’Sunny’, Temeprature is ’Cool’, Humidity =’High’, and Wind = ’True’?\r\n",
    "\r\n",
    "(3) Accuracy , precision and recall of both Models?\r\n"
   ],
   "metadata": {
    "colab_type": "text",
    "id": "nx-QEB7zfUGU"
   }
  }
 ],
 "metadata": {
  "colab": {
   "name": "2_DT_Iris.ipynb",
   "provenance": []
  },
  "kernelspec": {
   "display_name": "Python 3",
   "language": "python",
   "name": "python3"
  },
  "language_info": {
   "codemirror_mode": {
    "name": "ipython",
    "version": 3
   },
   "file_extension": ".py",
   "mimetype": "text/x-python",
   "name": "python",
   "nbconvert_exporter": "python",
   "pygments_lexer": "ipython3",
   "version": "3.8.10"
  }
 },
 "nbformat": 4,
 "nbformat_minor": 1
}