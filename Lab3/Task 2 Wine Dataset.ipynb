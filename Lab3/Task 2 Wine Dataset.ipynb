{
 "cells": [
  {
   "cell_type": "code",
   "execution_count": 1,
   "source": [
    "from sklearn import datasets\r\n",
    "from sklearn.model_selection import train_test_split\r\n",
    "\r\n",
    "main_data = datasets.load_wine()\r\n",
    "X_train, X_test, Y_train, Y_test = train_test_split(main_data.data, main_data.target, test_size = 0.2, random_state = 88)\r\n"
   ],
   "outputs": [],
   "metadata": {}
  },
  {
   "cell_type": "code",
   "execution_count": 3,
   "source": [
    "from sklearn.naive_bayes import GaussianNB\r\n",
    "from sklearn import metrics\r\n",
    "\r\n",
    "gnb = GaussianNB()\r\n",
    "gnb.fit(X_train, Y_train)\r\n",
    "\r\n",
    "Y_predicted = gnb.predict(X_test)\r\n",
    "\r\n",
    "print(f\"Accuracy:- {metrics.accuracy_score(Y_test, Y_predicted)}\")"
   ],
   "outputs": [
    {
     "output_type": "stream",
     "name": "stdout",
     "text": [
      "Accuracy:- 1.0\n"
     ]
    }
   ],
   "metadata": {}
  },
  {
   "cell_type": "code",
   "execution_count": null,
   "source": [
    "print(f\"Classification report for Classifier {gnb}:\\n\")\r\n",
    "print(f\"{metrics.classification_report(Y_test, Y_predicted)}\")"
   ],
   "outputs": [],
   "metadata": {}
  }
 ],
 "metadata": {
  "orig_nbformat": 4,
  "language_info": {
   "name": "python",
   "version": "3.9.2",
   "mimetype": "text/x-python",
   "codemirror_mode": {
    "name": "ipython",
    "version": 3
   },
   "pygments_lexer": "ipython3",
   "nbconvert_exporter": "python",
   "file_extension": ".py"
  },
  "kernelspec": {
   "name": "python3",
   "display_name": "Python 3.9.2 64-bit"
  },
  "interpreter": {
   "hash": "5d3bdf297df944d34b1a97ad44b06b41afb7df81ac17206bbaaada21786479bf"
  }
 },
 "nbformat": 4,
 "nbformat_minor": 2
}