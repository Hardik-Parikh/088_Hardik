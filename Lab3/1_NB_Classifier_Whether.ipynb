{
  "nbformat": 4,
  "nbformat_minor": 2,
  "metadata": {
    "kernelspec": {
      "name": "python3",
      "display_name": "Python 3.9.2 64-bit"
    },
    "language_info": {
      "codemirror_mode": {
        "name": "ipython",
        "version": 3
      },
      "file_extension": ".py",
      "mimetype": "text/x-python",
      "name": "python",
      "nbconvert_exporter": "python",
      "pygments_lexer": "ipython3",
      "version": "3.9.2"
    },
    "colab": {
      "name": "1_NB_Classifier_Whether.ipynb",
      "provenance": []
    },
    "interpreter": {
      "hash": "5d3bdf297df944d34b1a97ad44b06b41afb7df81ac17206bbaaada21786479bf"
    }
  },
  "cells": [
    {
      "cell_type": "markdown",
      "source": [
        "**Aim: Implement Naive Bayes classifier : Whether Example**"
      ],
      "metadata": {
        "id": "v-qaLkV_wIwA",
        "colab_type": "text"
      }
    },
    {
      "cell_type": "markdown",
      "source": [
        "# Step 1: Import necessary libraries.\r\n",
        "We will use preprocessing and naive bayes libraries of sklearn"
      ],
      "metadata": {
        "id": "fE3k_I_lwE3_",
        "colab_type": "text"
      }
    },
    {
      "cell_type": "code",
      "execution_count": 1,
      "source": [
        "from sklearn import preprocessing\r\n",
        "from sklearn.naive_bayes import GaussianNB, MultinomialNB"
      ],
      "outputs": [],
      "metadata": {
        "id": "AX_Lt4HDvoF4",
        "colab_type": "code",
        "colab": {}
      }
    },
    {
      "cell_type": "markdown",
      "source": [
        "# Step 2: Prepare dataset.\r\n",
        "Create feature set for weather and temperature, and classlabel play."
      ],
      "metadata": {
        "id": "heSKGhv4wPYo",
        "colab_type": "text"
      }
    },
    {
      "cell_type": "code",
      "execution_count": 2,
      "source": [
        "weather = ['Sunny', 'Sunny', 'Overcast', 'Rainy', 'Rainy','Rainy', 'Overcast',\r\n",
        "        'Sunny', 'Sunny', 'Rainy', 'Sunny', 'Overcast', 'Overcast', 'Rainy']\r\n",
        "\r\n",
        "temp = ['Hot','Hot','Hot','Mild','Cool','Cool','Cool','Mild',\r\n",
        "        'Cool','Mild','Mild','Mild','Hot','Mild']\r\n",
        "\r\n",
        "play = ['No','No','Yes','Yes','Yes','No','Yes','No','Yes',\r\n",
        "        'Yes','Yes','Yes','Yes','No']"
      ],
      "outputs": [],
      "metadata": {
        "id": "YBmuKC8mvoGe",
        "colab_type": "code",
        "colab": {}
      }
    },
    {
      "cell_type": "markdown",
      "source": [
        "# Step 3: Digitize the data set using encoding"
      ],
      "metadata": {
        "id": "VLHsDzOlwUcc",
        "colab_type": "text"
      }
    },
    {
      "cell_type": "code",
      "execution_count": 3,
      "source": [
        "#creating labelEncoder\r\n",
        "le = preprocessing.LabelEncoder()\r\n",
        "\r\n",
        "# Converting string labels into numbers.\r\n",
        "weather_encoded = le.fit_transform(weather)\r\n",
        "print(\"Weather:\" ,weather_encoded)"
      ],
      "outputs": [
        {
          "output_type": "stream",
          "name": "stdout",
          "text": [
            "Weather: [2 2 0 1 1 1 0 2 2 1 2 0 0 1]\n"
          ]
        }
      ],
      "metadata": {
        "id": "D2Y-GxbyvoG-",
        "colab_type": "code",
        "colab": {
          "base_uri": "https://localhost:8080/",
          "height": 34
        },
        "outputId": "aa3ddce2-228b-46bb-8817-9ecc8778fafc"
      }
    },
    {
      "cell_type": "code",
      "execution_count": 4,
      "source": [
        "temp_encoded = le.fit_transform(temp)\r\n",
        "label = le.fit_transform(play)\r\n",
        "\r\n",
        "print(\"Temp:\",temp_encoded)\r\n",
        "print(\"Play:\",label)"
      ],
      "outputs": [
        {
          "output_type": "stream",
          "name": "stdout",
          "text": [
            "Temp: [1 1 1 2 0 0 0 2 0 2 2 2 1 2]\n",
            "Play: [0 0 1 1 1 0 1 0 1 1 1 1 1 0]\n"
          ]
        }
      ],
      "metadata": {
        "id": "E8pKDFm8voHY",
        "colab_type": "code",
        "colab": {
          "base_uri": "https://localhost:8080/",
          "height": 52
        },
        "outputId": "c63793bd-0e5a-4cf5-9bf3-d938b0a7543b"
      }
    },
    {
      "cell_type": "markdown",
      "source": [
        "# Step 4: Merge different features to prepare dataset"
      ],
      "metadata": {
        "id": "1u2XKORtwckp",
        "colab_type": "text"
      }
    },
    {
      "cell_type": "code",
      "execution_count": 6,
      "source": [
        "# Combinig weather and temp into single listof tuples\r\n",
        "\r\n",
        "features = tuple(zip(weather_encoded,temp_encoded))\r\n",
        "print(\"Features:\",features)"
      ],
      "outputs": [
        {
          "output_type": "stream",
          "name": "stdout",
          "text": [
            "Features: ((2, 1), (2, 1), (0, 1), (1, 2), (1, 0), (1, 0), (0, 0), (2, 2), (2, 0), (1, 2), (2, 2), (0, 2), (0, 1), (1, 2))\n"
          ]
        }
      ],
      "metadata": {
        "id": "zcNtO6aUvoHs",
        "colab_type": "code",
        "colab": {
          "base_uri": "https://localhost:8080/",
          "height": 34
        },
        "outputId": "12856dcb-b8c8-489d-a20b-44c9647b69b9"
      }
    },
    {
      "cell_type": "markdown",
      "source": [
        "# Step 5: Train ’Naive Bayes Classifier’"
      ],
      "metadata": {
        "id": "ZTs-FRS5wgQs",
        "colab_type": "text"
      }
    },
    {
      "cell_type": "code",
      "execution_count": 7,
      "source": [
        "# Create a Classifier\r\n",
        "model = MultinomialNB()\r\n",
        "# Train the model using the training sets\r\n",
        "model.fit(features,label)"
      ],
      "outputs": [
        {
          "output_type": "execute_result",
          "data": {
            "text/plain": [
              "MultinomialNB()"
            ]
          },
          "metadata": {},
          "execution_count": 7
        }
      ],
      "metadata": {
        "id": "6ON9ljKDvoIB",
        "colab_type": "code",
        "colab": {
          "base_uri": "https://localhost:8080/",
          "height": 34
        },
        "outputId": "875d2a01-7cea-4f6f-b72f-23b31ff704fb"
      }
    },
    {
      "cell_type": "markdown",
      "source": [
        "# Step 6: Predict Output for new data"
      ],
      "metadata": {
        "id": "vRuNrfolwjn4",
        "colab_type": "text"
      }
    },
    {
      "cell_type": "code",
      "execution_count": 10,
      "source": [
        "#Predict Output\r\n",
        "predicted= model.predict([[0,2]]) # 0:Overcast, 2:Mild\r\n",
        "print(\"Predicted Value:\", predicted)"
      ],
      "outputs": [
        {
          "output_type": "stream",
          "name": "stdout",
          "text": [
            "Predicted Value: [1]\n"
          ]
        }
      ],
      "metadata": {
        "id": "Ix6AhMALvoIU",
        "colab_type": "code",
        "colab": {
          "base_uri": "https://localhost:8080/",
          "height": 34
        },
        "outputId": "372fbc51-9ef8-4305-9214-fd2e0f11aa24"
      }
    },
    {
      "cell_type": "code",
      "execution_count": 11,
      "source": [
        "predicted= model.predict([[0,1]]) # 0:Overcast, 1:Hot\r\n",
        "print(\"Predicted Value:\", predicted)"
      ],
      "outputs": [
        {
          "output_type": "stream",
          "name": "stdout",
          "text": [
            "Predicted Value: [1]\n"
          ]
        }
      ],
      "metadata": {
        "id": "HGejlGZvvoIk",
        "colab_type": "code",
        "colab": {
          "base_uri": "https://localhost:8080/",
          "height": 34
        },
        "outputId": "021275ce-36f9-44c0-cfd5-bb7057abe813"
      }
    },
    {
      "cell_type": "code",
      "execution_count": 12,
      "source": [
        "predicted= model.predict([[2,2]]) # 2:Sunny, 2:Mild\r\n",
        "\r\n",
        "print(\"Predicted Value:\", predicted)"
      ],
      "outputs": [
        {
          "output_type": "stream",
          "name": "stdout",
          "text": [
            "Predicted Value: [1]\n"
          ]
        }
      ],
      "metadata": {
        "id": "ROG6v7C_voIy",
        "colab_type": "code",
        "colab": {
          "base_uri": "https://localhost:8080/",
          "height": 34
        },
        "outputId": "0111d37f-41d9-4b51-a2ad-7bcddc0ee26c"
      }
    },
    {
      "cell_type": "markdown",
      "source": [
        "# Exercise:\r\n",
        "\r\n",
        "\r\n",
        "\r\n",
        "#### (1) Will you play if the temperature is 'Hot' and weather is 'overcast'?\r\n",
        "\r\n",
        "#### (2) Will you play if the temperature is 'Mild' and weather is 'Sunny'?\r\n",
        "\r\n",
        "\r\n",
        "\r\n",
        "\r\n",
        "\r\n",
        "\r\n",
        "\r\n",
        "\r\n"
      ],
      "metadata": {
        "id": "oKxdQNaxwoZn",
        "colab_type": "text"
      }
    }
  ]
}