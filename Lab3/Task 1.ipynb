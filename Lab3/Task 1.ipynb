{
 "cells": [
  {
   "cell_type": "markdown",
   "source": [
    "## Import Libraries."
   ],
   "metadata": {}
  },
  {
   "cell_type": "code",
   "execution_count": 9,
   "source": [
    "import numpy as np\r\n",
    "import pandas as pd\r\n",
    "import matplotlib.pyplot as plt\r\n",
    "from sklearn import datasets, preprocessing\r\n",
    "from sklearn.naive_bayes import GaussianNB, MultinomialNB"
   ],
   "outputs": [],
   "metadata": {}
  },
  {
   "cell_type": "markdown",
   "source": [
    "## Load dataset."
   ],
   "metadata": {}
  },
  {
   "cell_type": "code",
   "execution_count": 10,
   "source": [
    "dataset = pd.read_csv('datasets/Dataset2.csv')"
   ],
   "outputs": [],
   "metadata": {}
  },
  {
   "cell_type": "markdown",
   "source": [
    "## Apply Label Encoding(*here one hot encoding as per the given instruction*) to the non numeric fields."
   ],
   "metadata": {}
  },
  {
   "cell_type": "code",
   "execution_count": 11,
   "source": [
    "label_encoder = preprocessing.LabelEncoder()\r\n",
    "Y_rows = None\r\n",
    "\r\n",
    "for data_heading in dataset:\r\n",
    "    if data_heading != 'Class':\r\n",
    "        print(f\"\\n\\nHeading:- {data_heading}\")\r\n",
    "        dummy = pd.get_dummies(dataset[data_heading])\r\n",
    "        print(\"Dummy: \\n\", dummy)\r\n",
    "        dataset = dataset.drop([data_heading], axis=1)\r\n",
    "        dataset = pd.concat([dataset, dummy], axis=1)\r\n",
    "    else:\r\n",
    "        Y_rows = label_encoder.fit_transform(dataset[data_heading])\r\n",
    "        dataset = dataset.drop([data_heading], axis=1)"
   ],
   "outputs": [
    {
     "output_type": "stream",
     "name": "stdout",
     "text": [
      "\n",
      "\n",
      "Heading:- Outlook\n",
      "Dummy: \n",
      "     O  R  S\n",
      "0   0  1  0\n",
      "1   0  1  0\n",
      "2   1  0  0\n",
      "3   0  0  1\n",
      "4   0  0  1\n",
      "5   0  0  1\n",
      "6   1  0  0\n",
      "7   0  1  0\n",
      "8   0  1  0\n",
      "9   0  0  1\n",
      "10  0  1  0\n",
      "11  1  0  0\n",
      "12  1  0  0\n",
      "13  0  0  1\n",
      "\n",
      "\n",
      "Heading:- Temp\n",
      "Dummy: \n",
      "     C  H  M\n",
      "0   0  1  0\n",
      "1   0  1  0\n",
      "2   0  1  0\n",
      "3   0  0  1\n",
      "4   0  0  1\n",
      "5   0  0  1\n",
      "6   1  0  0\n",
      "7   1  0  0\n",
      "8   1  0  0\n",
      "9   0  0  1\n",
      "10  0  0  1\n",
      "11  0  0  1\n",
      "12  0  1  0\n",
      "13  0  0  1\n",
      "\n",
      "\n",
      "Heading:- Wind\n",
      "Dummy: \n",
      "     F  T\n",
      "0   1  0\n",
      "1   0  1\n",
      "2   1  0\n",
      "3   1  0\n",
      "4   1  0\n",
      "5   0  1\n",
      "6   0  1\n",
      "7   1  0\n",
      "8   1  0\n",
      "9   1  0\n",
      "10  0  1\n",
      "11  0  1\n",
      "12  1  0\n",
      "13  0  1\n",
      "\n",
      "\n",
      "Heading:- Humidity\n",
      "Dummy: \n",
      "     High  Low  Normal\n",
      "0      0    0       1\n",
      "1      1    0       0\n",
      "2      0    0       1\n",
      "3      0    0       1\n",
      "4      0    0       1\n",
      "5      0    1       0\n",
      "6      0    0       1\n",
      "7      0    0       1\n",
      "8      0    1       0\n",
      "9      1    0       0\n",
      "10     1    0       0\n",
      "11     0    1       0\n",
      "12     0    0       1\n",
      "13     0    0       1\n"
     ]
    }
   ],
   "metadata": {}
  },
  {
   "cell_type": "code",
   "execution_count": 12,
   "source": [
    "print(dataset)\r\n",
    "print()\r\n",
    "print(Y_rows)"
   ],
   "outputs": [
    {
     "output_type": "stream",
     "name": "stdout",
     "text": [
      "    O  R  S  C  H  M  F  T  High  Low  Normal\n",
      "0   0  1  0  0  1  0  1  0     0    0       1\n",
      "1   0  1  0  0  1  0  0  1     1    0       0\n",
      "2   1  0  0  0  1  0  1  0     0    0       1\n",
      "3   0  0  1  0  0  1  1  0     0    0       1\n",
      "4   0  0  1  0  0  1  1  0     0    0       1\n",
      "5   0  0  1  0  0  1  0  1     0    1       0\n",
      "6   1  0  0  1  0  0  0  1     0    0       1\n",
      "7   0  1  0  1  0  0  1  0     0    0       1\n",
      "8   0  1  0  1  0  0  1  0     0    1       0\n",
      "9   0  0  1  0  0  1  1  0     1    0       0\n",
      "10  0  1  0  0  0  1  0  1     1    0       0\n",
      "11  1  0  0  0  0  1  0  1     0    1       0\n",
      "12  1  0  0  0  1  0  1  0     0    0       1\n",
      "13  0  0  1  0  0  1  0  1     0    0       1\n",
      "\n",
      "[0 0 1 0 1 1 1 1 1 1 1 1 1 0]\n"
     ]
    }
   ],
   "metadata": {}
  },
  {
   "cell_type": "code",
   "execution_count": 13,
   "source": [
    "from sklearn.model_selection import train_test_split\r\n",
    "\r\n",
    "# As per the given instruction\r\n",
    "# random state = Roll No = 88\r\n",
    "# test_size = 25 % \r\n",
    "X_train, X_test, Y_train, Y_test = train_test_split(dataset, Y_rows, test_size=0.25, random_state=88)"
   ],
   "outputs": [],
   "metadata": {}
  },
  {
   "cell_type": "code",
   "execution_count": 14,
   "source": [
    "# create model\r\n",
    "model = MultinomialNB()\r\n",
    "model.fit(X_train, Y_train)\r\n",
    "\r\n",
    "# Predict Y from X_test\r\n",
    "Y_predicted = model.predict(X_test)\r\n",
    "print(X_test)\r\n",
    "print(Y_predicted)"
   ],
   "outputs": [
    {
     "output_type": "stream",
     "name": "stdout",
     "text": [
      "    O  R  S  C  H  M  F  T  High  Low  Normal\n",
      "7   0  1  0  1  0  0  1  0     0    0       1\n",
      "3   0  0  1  0  0  1  1  0     0    0       1\n",
      "13  0  0  1  0  0  1  0  1     0    0       1\n",
      "2   1  0  0  0  1  0  1  0     0    0       1\n",
      "[1 1 1 1]\n"
     ]
    }
   ],
   "metadata": {}
  },
  {
   "cell_type": "code",
   "execution_count": 15,
   "source": [
    "from sklearn import metrics\r\n",
    "\r\n",
    "print(f\"Accuracy:- {metrics.accuracy_score(Y_test, Y_predicted)}\")\r\n",
    "print(f\"Precision:- {metrics.precision_score(Y_test, Y_predicted)}\")\r\n",
    "print(f\"Recall:- {metrics.recall_score(Y_test, Y_predicted)}\")"
   ],
   "outputs": [
    {
     "output_type": "stream",
     "name": "stdout",
     "text": [
      "Accuracy:- 0.5\n",
      "Precision:- 0.5\n",
      "Recall:- 1.0\n"
     ]
    }
   ],
   "metadata": {}
  },
  {
   "cell_type": "code",
   "execution_count": 16,
   "source": [
    "# Task1\r\n",
    "\r\n",
    "# 1.\r\n",
    "# Outlook, Temperature, Wind,       Humidity\r\n",
    "# Rainy,    Mild,       False,      Normal,     \r\n",
    "# 0 1 0     0 0 1       1 0         0 0 1\r\n",
    "output = model.predict([[0,1,0, 0,0,1, 1,0, 0,0,1]])\r\n",
    "print(f\"Final Prediction:- {output}\")\r\n",
    "\r\n",
    "# 2.\r\n",
    "# Outlook Temp  Wind Humidity \r\n",
    "# sunny, Cool,  True, High\r\n",
    "# 0 0 1  1 0 0  0 1   1 0 0\r\n",
    "output = model.predict([[0,0,1, 1,0,0, 0,1, 1,0,0]])\r\n",
    "print(f\"Final prediction:- {output}\")"
   ],
   "outputs": [
    {
     "output_type": "stream",
     "name": "stdout",
     "text": [
      "Final Prediction:- [1]\n",
      "Final prediction:- [1]\n"
     ]
    }
   ],
   "metadata": {}
  }
 ],
 "metadata": {
  "orig_nbformat": 4,
  "language_info": {
   "name": "python",
   "version": "3.9.2",
   "mimetype": "text/x-python",
   "codemirror_mode": {
    "name": "ipython",
    "version": 3
   },
   "pygments_lexer": "ipython3",
   "nbconvert_exporter": "python",
   "file_extension": ".py"
  },
  "kernelspec": {
   "name": "python3",
   "display_name": "Python 3.9.2 64-bit"
  },
  "interpreter": {
   "hash": "5d3bdf297df944d34b1a97ad44b06b41afb7df81ac17206bbaaada21786479bf"
  }
 },
 "nbformat": 4,
 "nbformat_minor": 2
}