{
 "cells": [
  {
   "cell_type": "code",
   "execution_count": 5,
   "source": [
    "# import libraries\r\n",
    "import nltk\r\n",
    "import matplotlib.pyplot as plt\r\n",
    "import pandas as pd\r\n",
    "\r\n",
    "nltk.download('punkt')"
   ],
   "outputs": [
    {
     "output_type": "stream",
     "name": "stderr",
     "text": [
      "[nltk_data] Downloading package punkt to\n",
      "[nltk_data]     C:\\Users\\hardi\\AppData\\Roaming\\nltk_data...\n",
      "[nltk_data]   Unzipping tokenizers\\punkt.zip.\n"
     ]
    },
    {
     "output_type": "execute_result",
     "data": {
      "text/plain": [
       "True"
      ]
     },
     "metadata": {},
     "execution_count": 5
    }
   ],
   "metadata": {}
  },
  {
   "cell_type": "code",
   "execution_count": 3,
   "source": [
    "# Raw text Analysis\r\n",
    "sample_text = \"It is a truth universally acknowledged, that a single man in possession of a good fortune, must be in want of a wife.\""
   ],
   "outputs": [],
   "metadata": {}
  },
  {
   "cell_type": "markdown",
   "source": [
    "## Above sample text if fetched from the book *Pride and Prejudice* as a text for analysis."
   ],
   "metadata": {}
  },
  {
   "cell_type": "markdown",
   "source": [
    "# Preprocess raw text for Sentiment analysis\r\n",
    "\r\n",
    "## Data Prepocessing:\r\n",
    "## For NLP, the preprocessing steps are comprised of the following tasks:\r\n",
    "- Tokenizing the string\r\n",
    "- Lowercasing\r\n",
    "- Removing stop words and punctuation\r\n",
    "- Stemming\r\n"
   ],
   "metadata": {}
  },
  {
   "cell_type": "markdown",
   "source": [
    "## Tokenizing the string after lowercasing"
   ],
   "metadata": {}
  },
  {
   "cell_type": "code",
   "execution_count": 8,
   "source": [
    "sample_text = sample_text.lower()\r\n",
    "words = nltk.word_tokenize(sample_text)\r\n",
    "print(words)"
   ],
   "outputs": [
    {
     "output_type": "stream",
     "name": "stdout",
     "text": [
      "['it', 'is', 'a', 'truth', 'universally', 'acknowledged', ',', 'that', 'a', 'single', 'man', 'in', 'possession', 'of', 'a', 'good', 'fortune', ',', 'must', 'be', 'in', 'want', 'of', 'a', 'wife', '.']\n"
     ]
    }
   ],
   "metadata": {}
  },
  {
   "cell_type": "markdown",
   "source": [
    "## Remove stopwords and punctuations"
   ],
   "metadata": {}
  },
  {
   "cell_type": "code",
   "execution_count": 9,
   "source": [
    "import string\r\n",
    "from nltk.corpus import stopwords\r\n",
    "\r\n",
    "stop_words = stopwords.words('english')\r\n",
    "punctuation = string.punctuation\r\n",
    "\r\n",
    "clean_text_tokens = []\r\n",
    "\r\n",
    "for word in words:\r\n",
    "    if (word not in stop_words and word not in punctuation):\r\n",
    "        clean_text_tokens.append(word)\r\n",
    "print(f'Tokens after removing stopwords and punctuations\\n{clean_text_tokens}')"
   ],
   "outputs": [
    {
     "output_type": "stream",
     "name": "stdout",
     "text": [
      "Tokens after removing stopwords and punctuations\n",
      "['truth', 'universally', 'acknowledged', 'single', 'man', 'possession', 'good', 'fortune', 'must', 'want', 'wife']\n"
     ]
    }
   ],
   "metadata": {}
  },
  {
   "cell_type": "markdown",
   "source": [
    "## Stemming"
   ],
   "metadata": {}
  },
  {
   "cell_type": "code",
   "execution_count": 10,
   "source": [
    "from nltk.stem.porter import PorterStemmer\r\n",
    "\r\n",
    "porter = PorterStemmer()\r\n",
    "stemmed = [porter.stem(word) for word in clean_text_tokens]\r\n",
    "print(\"Tokens after stemming.\")\r\n",
    "print(stemmed)"
   ],
   "outputs": [
    {
     "output_type": "stream",
     "name": "stdout",
     "text": [
      "['truth', 'univers', 'acknowledg', 'singl', 'man', 'possess', 'good', 'fortun', 'must', 'want', 'wife']\n"
     ]
    }
   ],
   "metadata": {}
  }
 ],
 "metadata": {
  "orig_nbformat": 4,
  "language_info": {
   "name": "python",
   "version": "3.9.2",
   "mimetype": "text/x-python",
   "codemirror_mode": {
    "name": "ipython",
    "version": 3
   },
   "pygments_lexer": "ipython3",
   "nbconvert_exporter": "python",
   "file_extension": ".py"
  },
  "kernelspec": {
   "name": "python3",
   "display_name": "Python 3.9.2 64-bit"
  },
  "interpreter": {
   "hash": "5d3bdf297df944d34b1a97ad44b06b41afb7df81ac17206bbaaada21786479bf"
  }
 },
 "nbformat": 4,
 "nbformat_minor": 2
}