{
 "cells": [
  {
   "cell_type": "markdown",
   "source": [
    "# Linear algebra in python with NumPy\r\n",
    "## Numpy is one of the most used libraries in python for arrays manipulation. It adds to python a set of functions that allows us to operate on large multidimensional arrays with just few lines."
   ],
   "metadata": {}
  },
  {
   "cell_type": "code",
   "execution_count": 1,
   "source": [
    "import numpy as np"
   ],
   "outputs": [],
   "metadata": {}
  },
  {
   "cell_type": "markdown",
   "source": [
    "# Defining Lists and numpy arrays"
   ],
   "metadata": {}
  },
  {
   "cell_type": "code",
   "execution_count": 2,
   "source": [
    "alist = [1,2,3,4,5]             # ordinary python list\r\n",
    "narray = np.array([1,2,3,4,5])  # numpy array"
   ],
   "outputs": [],
   "metadata": {}
  },
  {
   "cell_type": "markdown",
   "source": [
    "## Note the difference between Python list and a NumPy Array\r\n"
   ],
   "metadata": {}
  },
  {
   "cell_type": "code",
   "execution_count": 3,
   "source": [
    "print(alist, narray, type(alist), type(narray), sep='\\n')"
   ],
   "outputs": [
    {
     "output_type": "stream",
     "name": "stdout",
     "text": [
      "[1, 2, 3, 4, 5]\n",
      "[1 2 3 4 5]\n",
      "<class 'list'>\n",
      "<class 'numpy.ndarray'>\n"
     ]
    }
   ],
   "metadata": {}
  },
  {
   "cell_type": "markdown",
   "source": [
    "# Algebraic operators on NumPy arrays vs. Python lists\r\n",
    "## Note the '+' operator on numpy arrays perform an element-wise addition, while the same operation on Python lists results in a list concatenation."
   ],
   "metadata": {}
  },
  {
   "cell_type": "code",
   "execution_count": 4,
   "source": [
    "print(narray + narray)\r\n",
    "print(alist + alist)"
   ],
   "outputs": [
    {
     "output_type": "stream",
     "name": "stdout",
     "text": [
      "[ 2  4  6  8 10]\n",
      "[1, 2, 3, 4, 5, 1, 2, 3, 4, 5]\n"
     ]
    }
   ],
   "metadata": {}
  },
  {
   "cell_type": "markdown",
   "source": [
    "## It is the same as with the product, ```*```. In the first case, we scale vector, while in the second case, we concatenate three times the same list."
   ],
   "metadata": {}
  },
  {
   "cell_type": "code",
   "execution_count": 5,
   "source": [
    "print(narray*3)\r\n",
    "print(alist *3)"
   ],
   "outputs": [
    {
     "output_type": "stream",
     "name": "stdout",
     "text": [
      "[ 3  6  9 12 15]\n",
      "[1, 2, 3, 4, 5, 1, 2, 3, 4, 5, 1, 2, 3, 4, 5]\n"
     ]
    }
   ],
   "metadata": {}
  },
  {
   "cell_type": "markdown",
   "source": [
    "# Matrix Array of Arrays:\r\n",
    "## With Numpy, we have two ways to create a matrix:\r\n",
    "- Creating an array of arrays ```np.array``` (recommended).\r\n",
    "- Creating a matrix using ```np.matrix``` (still available but might be removed soon)"
   ],
   "metadata": {}
  },
  {
   "cell_type": "code",
   "execution_count": 6,
   "source": [
    "npmatrix1 = np.array([narray, narray, narray]) # Matrix inialized with Numpy arrays\r\n",
    "npmatrix2 = np.array([alist, alist, alist]) # Matrix inialized with lists\r\n",
    "npmatrix3 = np.array([narray, [1,1,1,1,1], narray]) # Matrix inialized with both Numpy types\r\n",
    "\r\n",
    "print(npmatrix1, npmatrix2, npmatrix3, sep='\\n')"
   ],
   "outputs": [
    {
     "output_type": "stream",
     "name": "stdout",
     "text": [
      "[[1 2 3 4 5]\n",
      " [1 2 3 4 5]\n",
      " [1 2 3 4 5]]\n",
      "[[1 2 3 4 5]\n",
      " [1 2 3 4 5]\n",
      " [1 2 3 4 5]]\n",
      "[[1 2 3 4 5]\n",
      " [1 1 1 1 1]\n",
      " [1 2 3 4 5]]\n"
     ]
    }
   ],
   "metadata": {}
  },
  {
   "cell_type": "markdown",
   "source": [
    "## However, when defining a matrix, be sure that all the rows contain the same number of elements. Otherwise, the linear algebra operations could lead to unexpected results.\r\n",
    "\r\n",
    "## Analyze the following examples:"
   ],
   "metadata": {}
  },
  {
   "cell_type": "code",
   "execution_count": 7,
   "source": [
    "# Example 1:\r\n",
    "\r\n",
    "okmatrix = np.array([[1,2],[3,4]]) # 2 x 2 matrix\r\n",
    "print(okmatrix)\r\n",
    "print(okmatrix * 2)"
   ],
   "outputs": [
    {
     "output_type": "stream",
     "name": "stdout",
     "text": [
      "[[1 2]\n",
      " [3 4]]\n",
      "[[2 4]\n",
      " [6 8]]\n"
     ]
    }
   ],
   "metadata": {}
  },
  {
   "cell_type": "code",
   "execution_count": 8,
   "source": [
    "# Example 2\r\n",
    "\r\n",
    "badmatrix = np.array([[1,2],[3,4], [5,6,7]])\r\n",
    "print(badmatrix)\r\n",
    "print(badmatrix * 2)"
   ],
   "outputs": [
    {
     "output_type": "stream",
     "name": "stdout",
     "text": [
      "[list([1, 2]) list([3, 4]) list([5, 6, 7])]\n",
      "[list([1, 2, 1, 2]) list([3, 4, 3, 4]) list([5, 6, 7, 5, 6, 7])]\n"
     ]
    },
    {
     "output_type": "stream",
     "name": "stderr",
     "text": [
      "<ipython-input-8-f6d0bbb10cad>:3: VisibleDeprecationWarning: Creating an ndarray from ragged nested sequences (which is a list-or-tuple of lists-or-tuples-or ndarrays with different lengths or shapes) is deprecated. If you meant to do this, you must specify 'dtype=object' when creating the ndarray\n",
      "  badmatrix = np.array([[1,2],[3,4], [5,6,7]])\n"
     ]
    }
   ],
   "metadata": {}
  },
  {
   "cell_type": "markdown",
   "source": [
    "# Scaling and translating matrices\r\n",
    "## Now that you know how to build correct NumPy arrays and matrices, let us see how easy it is to operate with them in python using the regular algebric operators like ```+``` and ```-```.\r\n",
    "## Operations can be performed between arrays and arrays or between arrays and scalars."
   ],
   "metadata": {}
  },
  {
   "cell_type": "code",
   "execution_count": 9,
   "source": [
    "# Scale by 2 and translate 1 unit the matrix\r\n",
    "result = okmatrix * 2 + 1 # for each element in the matrix, multiply by 2 and add 1\r\n",
    "print(result) "
   ],
   "outputs": [
    {
     "output_type": "stream",
     "name": "stdout",
     "text": [
      "[[3 5]\n",
      " [7 9]]\n"
     ]
    }
   ],
   "metadata": {}
  },
  {
   "cell_type": "code",
   "execution_count": 10,
   "source": [
    "print(okmatrix + okmatrix)\r\n",
    "print(okmatrix - okmatrix)"
   ],
   "outputs": [
    {
     "output_type": "stream",
     "name": "stdout",
     "text": [
      "[[2 4]\n",
      " [6 8]]\n",
      "[[0 0]\n",
      " [0 0]]\n"
     ]
    }
   ],
   "metadata": {}
  },
  {
   "cell_type": "markdown",
   "source": [
    "## The operator ```*``` when used on arrays or matrices indicates element- wise multiplications. Do not confuse it with the **dot** product."
   ],
   "metadata": {}
  },
  {
   "cell_type": "code",
   "execution_count": 11,
   "source": [
    "result = okmatrix * okmatrix\r\n",
    "print(result)"
   ],
   "outputs": [
    {
     "output_type": "stream",
     "name": "stdout",
     "text": [
      "[[ 1  4]\n",
      " [ 9 16]]\n"
     ]
    }
   ],
   "metadata": {}
  },
  {
   "cell_type": "markdown",
   "source": [
    "# Transpose of a matrix\r\n",
    "\r\n",
    "## **T** denotes the transpose operations with NumPy matrices."
   ],
   "metadata": {}
  },
  {
   "cell_type": "code",
   "execution_count": 12,
   "source": [
    "mat3x2 = np.array([[1,2],[3,4],[5,6]])\r\n",
    "print(\"Original Matrix:\\n\", mat3x2)\r\n",
    "print(\"Transposed Matrix:\\n\", mat3x2.T)"
   ],
   "outputs": [
    {
     "output_type": "stream",
     "name": "stdout",
     "text": [
      "Original Matrix:\n",
      " [[1 2]\n",
      " [3 4]\n",
      " [5 6]]\n",
      "Transposed Matrix:\n",
      " [[1 3 5]\n",
      " [2 4 6]]\n"
     ]
    }
   ],
   "metadata": {}
  },
  {
   "cell_type": "markdown",
   "source": [
    "## How ever, note that the transpose operation does not affect 1D arrays."
   ],
   "metadata": {}
  },
  {
   "cell_type": "code",
   "execution_count": 13,
   "source": [
    "nparray = np.array([1,2,3,4,5])\r\n",
    "print(\"Original:\", nparray, \"Transposed:\", nparray.T, sep=\"\\n\" )"
   ],
   "outputs": [
    {
     "output_type": "stream",
     "name": "stdout",
     "text": [
      "Original:\n",
      "[1 2 3 4 5]\n",
      "Transposed:\n",
      "[1 2 3 4 5]\n"
     ]
    }
   ],
   "metadata": {}
  },
  {
   "cell_type": "markdown",
   "source": [
    "## Perhaps in this case you wanted to do:"
   ],
   "metadata": {}
  },
  {
   "cell_type": "code",
   "execution_count": 14,
   "source": [
    "nparray = np.array([[1,2,3,4,5]])\r\n",
    "print(\"Original:\", nparray, \"Transposed:\", nparray.T, sep=\"\\n\" )"
   ],
   "outputs": [
    {
     "output_type": "stream",
     "name": "stdout",
     "text": [
      "Original:\n",
      "[[1 2 3 4 5]]\n",
      "Transposed:\n",
      "[[1]\n",
      " [2]\n",
      " [3]\n",
      " [4]\n",
      " [5]]\n"
     ]
    }
   ],
   "metadata": {}
  },
  {
   "cell_type": "markdown",
   "source": [
    "# Get the norm of a nparray or matrix\r\n",
    "## in linear algebra, the norm of an n-dimensional vector $\\vec{a}$ is defined as:\r\n",
    "$$\r\n",
    "norm(\\vec{a}) = \\mid\\mid\\vec{a}\\mid\\mid \\\\= \\sqrt{\\sum_{i=1}^{n} a_{i}^2}\r\n",
    "$$"
   ],
   "metadata": {}
  },
  {
   "cell_type": "markdown",
   "source": [
    "## Calculating the norm of the vector or even of a matrix is a general operation when dealing with data. Numpy has a set of functions for linear algebra in the subpackage **linakg**, including the norm function. Let us see how to get the norm of a given array or matrix:"
   ],
   "metadata": {}
  },
  {
   "cell_type": "code",
   "execution_count": 15,
   "source": [
    "nparray1 = np.array([1,2,3,4])\r\n",
    "norm1 = np.linalg.norm(nparray1)\r\n",
    "\r\n",
    "nparray2 = np.array([[1,2], [3,4]])\r\n",
    "norm2 = np.linalg.norm(nparray2)\r\n",
    "\r\n",
    "print(norm1, norm2, sep=\"\\n\")"
   ],
   "outputs": [
    {
     "output_type": "stream",
     "name": "stdout",
     "text": [
      "5.477225575051661\n",
      "5.477225575051661\n"
     ]
    }
   ],
   "metadata": {}
  },
  {
   "cell_type": "markdown",
   "source": [
    "## Note that without any other parameter, the norm function treats the matrix as being just an array of numbers. However, it is possible to get the norm by rows or by columns. The **axis** parameter controls the form of the operation:\r\n",
    "- **axis=0** means get the norm of each column.\r\n",
    "- **axis=1** means get the norm of each row."
   ],
   "metadata": {}
  },
  {
   "cell_type": "code",
   "execution_count": 17,
   "source": [
    "nparray2 = np.array([[1,1],[2,2],[3,3]])\r\n",
    "normByCols = np.linalg.norm(nparray2, axis=0)\r\n",
    "normByRows = np.linalg.norm(nparray2, axis=1)\r\n",
    "\r\n",
    "print(normByCols, normByRows, sep='\\n')"
   ],
   "outputs": [
    {
     "output_type": "stream",
     "name": "stdout",
     "text": [
      "[3.74165739 3.74165739]\n",
      "[1.41421356 2.82842712 4.24264069]\n"
     ]
    }
   ],
   "metadata": {}
  },
  {
   "cell_type": "markdown",
   "source": [
    "# The dot product between arrays: All the flavors\r\n",
    "## The dot product or scalar product or inner product between two vectors $\\vec{a}$ and $\\vec{b}$ of same size is defined as:\r\n",
    "$$\r\n",
    "\\vec{a} \\, \\cdot \\vec{b} = \\sum_{i=1}^{n} a_{i}b{i}\r\n",
    "$$\r\n",
    "## The dot product takes two vectors and returns a single number"
   ],
   "metadata": {}
  },
  {
   "cell_type": "code",
   "execution_count": 18,
   "source": [
    "nparray1 = np.array([0,1,2,3])\r\n",
    "nparray2 = np.array([4,5,6,7])\r\n",
    "\r\n",
    "flavor1 = np.dot(nparray1, nparray2)\r\n",
    "print(flavor1)\r\n",
    "\r\n",
    "flavor2 = np.sum(nparray1 * nparray2)\r\n",
    "print(flavor2)\r\n",
    "\r\n",
    "flavor3 = nparray1 @ nparray2\r\n",
    "print(flavor3)\r\n",
    "\r\n",
    "flavor4 = 0\r\n",
    "for a,b in zip(nparray1, nparray2):\r\n",
    "    flavor4 += a*b\r\n",
    "print(flavor4)"
   ],
   "outputs": [
    {
     "output_type": "stream",
     "name": "stdout",
     "text": [
      "38\n",
      "38\n",
      "38\n",
      "38\n"
     ]
    }
   ],
   "metadata": {}
  },
  {
   "cell_type": "markdown",
   "source": [
    "## Recommend ```np.dot()``` as it is the only method that accepts arrays and lists without problems."
   ],
   "metadata": {}
  },
  {
   "cell_type": "code",
   "execution_count": 20,
   "source": [
    "norm1 = np.dot(np.array([1,2]), np.array([3,4]))\r\n",
    "norm2 = np.dot([1,2], [3,4])\r\n",
    "\r\n",
    "print(norm1, norm2, sep='\\n')\r\n",
    "print('norm1 == norm2: ', norm1 == norm2)"
   ],
   "outputs": [
    {
     "output_type": "stream",
     "name": "stdout",
     "text": [
      "11\n",
      "11\n",
      "norm1 == norm2:  True\n"
     ]
    }
   ],
   "metadata": {}
  },
  {
   "cell_type": "markdown",
   "source": [
    "## Finally, not that the norm is the square root of the dot product of the vector with itself.\r\n",
    "$$\r\n",
    "norm(\\vec{a})\\, =\\,\\, \\mid\\mid\\vec{a}\\mid\\mid\r\n",
    "= \\sqrt{\\sum_{i=1}^{n} a_{i}^2} = \\sqrt{a \\cdot a} \r\n",
    "$$"
   ],
   "metadata": {}
  },
  {
   "cell_type": "markdown",
   "source": [
    "# Sums by rows or columns\r\n",
    "## another general operation performed on the matrices is the sum by rows or columns. Just as we did for the function norm, the axis parameter controls the form of the operation:\r\n",
    "- **axis = 0** means to sum the elements of each column together.\r\n",
    "- **axis = 1** means to sum the elements of each row together."
   ],
   "metadata": {}
  },
  {
   "cell_type": "code",
   "execution_count": 21,
   "source": [
    "nparray2 = np.array([[1,-1], [2,-2], [3,-3]])\r\n",
    "\r\n",
    "sumByCols = np.sum(nparray2, axis = 0)\r\n",
    "sumByRows = np.sum(nparray2, axis = 1)\r\n",
    "\r\n",
    "print('Sum by columns:', sumByCols)\r\n",
    "print('Sum by rows', sumByRows)"
   ],
   "outputs": [
    {
     "output_type": "stream",
     "name": "stdout",
     "text": [
      "Sum by columns: [ 6 -6]\n",
      "Sum by rows [0 0 0]\n"
     ]
    }
   ],
   "metadata": {}
  },
  {
   "cell_type": "markdown",
   "source": [
    "# Get the mean by rows or columns\r\n",
    "$$\r\n",
    "mean(\\vec{a}) = \\frac{\\sqrt{\\sum_{i=1}^{n} a_{i}}}{n}\r\n",
    "$$"
   ],
   "metadata": {}
  },
  {
   "cell_type": "code",
   "execution_count": 22,
   "source": [
    "nparray2 = np.array([[1,-1], [2,-2], [3,-3]])\r\n",
    "\r\n",
    "mean = np.mean(nparray2)\r\n",
    "meanbyCols = np.mean(nparray2, axis=0)\r\n",
    "meanbyRows = np.mean(nparray2, axis=1)\r\n",
    "\r\n",
    "print('Mean:', mean)\r\n",
    "print('Mean by cols:', meanbyCols)\r\n",
    "print('Mean by rows:', meanbyRows)"
   ],
   "outputs": [
    {
     "output_type": "stream",
     "name": "stdout",
     "text": [
      "Mean: 0.0\n",
      "Mean by cols: [ 2. -2.]\n",
      "Mean by rows: [0. 0. 0.]\n"
     ]
    }
   ],
   "metadata": {}
  },
  {
   "cell_type": "markdown",
   "source": [
    "# Center the columns of a matrix\r\n",
    "## Centering the attributes of a data matrix essential preprocessing step. Considering a matrix means to remove the column mean to each element inside the column. The sum by columns of a centered matrix is always 0.\r\n",
    "## With NumPy, this process is as simple as this."
   ],
   "metadata": {}
  },
  {
   "cell_type": "code",
   "execution_count": 25,
   "source": [
    "nparray2 = np.array([[1,1],[2,2],[3,3]])\r\n",
    "\r\n",
    "nparrayCentered = nparray2 - np.mean(nparray2, axis = 0)\r\n",
    "print(\"Original matrix:\", nparray2, sep='\\n')\r\n",
    "print(\"Centered matrix:\", nparrayCentered, sep='\\n')\r\n",
    "\r\n",
    "print('New mean by cols:', nparrayCentered.mean(axis=0))"
   ],
   "outputs": [
    {
     "output_type": "stream",
     "name": "stdout",
     "text": [
      "Original matrix:\n",
      "[[1 1]\n",
      " [2 2]\n",
      " [3 3]]\n",
      "Centered matrix:\n",
      "[[-1. -1.]\n",
      " [ 0.  0.]\n",
      " [ 1.  1.]]\n",
      "New mean by cols: [0. 0.]\n"
     ]
    }
   ],
   "metadata": {}
  },
  {
   "cell_type": "markdown",
   "source": [
    "## **Warning:** This process does not apply for row centering. In such case, consider transposing the matrix, centering by columns, and then transpose back the result.\r\n",
    "## See the example below:"
   ],
   "metadata": {}
  },
  {
   "cell_type": "code",
   "execution_count": 26,
   "source": [
    "nparray2 = np.array([[1,3],[2,4],[3,5]])\r\n",
    "\r\n",
    "nparrayCentered = nparray2.T - np.mean(nparray2, axis=1)\r\n",
    "nparrayCentered = nparrayCentered.T\r\n",
    "\r\n",
    "print(\"Original Matrix\", nparray2, sep='\\n')\r\n",
    "print(\"Centered by cols:\", nparrayCentered, sep='\\n')\r\n",
    "print(\"Centered by rows\", nparrayCentered.mean(axis=1))"
   ],
   "outputs": [
    {
     "output_type": "stream",
     "name": "stdout",
     "text": [
      "Original Matrix\n",
      "[[1 3]\n",
      " [2 4]\n",
      " [3 5]]\n",
      "Centered by cols:\n",
      "[[-1.  1.]\n",
      " [-1.  1.]\n",
      " [-1.  1.]]\n",
      "Centered by rows [0. 0. 0.]\n"
     ]
    }
   ],
   "metadata": {}
  },
  {
   "cell_type": "markdown",
   "source": [
    "# Exercise"
   ],
   "metadata": {}
  },
  {
   "cell_type": "markdown",
   "source": [
    "# Create two numpy array of size 3x2 and 2x3"
   ],
   "metadata": {}
  },
  {
   "cell_type": "code",
   "execution_count": null,
   "source": [],
   "outputs": [],
   "metadata": {}
  }
 ],
 "metadata": {
  "orig_nbformat": 4,
  "language_info": {
   "name": "python"
  }
 },
 "nbformat": 4,
 "nbformat_minor": 2
}