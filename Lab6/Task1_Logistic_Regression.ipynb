{
 "cells": [
  {
   "cell_type": "markdown",
   "source": [
    "# Exercise:\r\n",
    "\r\n",
    "## Try logistic regression on BuyComputer dataset and set Random state = 88"
   ],
   "metadata": {}
  },
  {
   "cell_type": "markdown",
   "source": [
    "## Import necessary libraries."
   ],
   "metadata": {}
  },
  {
   "cell_type": "code",
   "execution_count": 1,
   "source": [
    "import numpy as np \r\n",
    "import pandas as pd \r\n",
    "import io\r\n",
    "import matplotlib.pyplot as plt"
   ],
   "outputs": [],
   "metadata": {
    "_cell_guid": "b1076dfc-b9ad-4769-8c92-a6c4dae69d19",
    "_uuid": "8f2839f25d086af736a60e9eeb907d3b93b6e0e5",
    "id": "hfV503AtcBDp"
   }
  },
  {
   "cell_type": "code",
   "execution_count": 2,
   "source": [
    "# reading the csv file, del 2 columns from the file \r\n",
    "# checking first few rows of the file\r\n",
    "\r\n",
    "data = pd.read_csv('BuyComputer.csv')\r\n",
    "\r\n",
    "data.drop(columns=['User ID',],axis=1,inplace=True)\r\n",
    "data.head()"
   ],
   "outputs": [
    {
     "output_type": "execute_result",
     "data": {
      "text/html": [
       "<div>\n",
       "<style scoped>\n",
       "    .dataframe tbody tr th:only-of-type {\n",
       "        vertical-align: middle;\n",
       "    }\n",
       "\n",
       "    .dataframe tbody tr th {\n",
       "        vertical-align: top;\n",
       "    }\n",
       "\n",
       "    .dataframe thead th {\n",
       "        text-align: right;\n",
       "    }\n",
       "</style>\n",
       "<table border=\"1\" class=\"dataframe\">\n",
       "  <thead>\n",
       "    <tr style=\"text-align: right;\">\n",
       "      <th></th>\n",
       "      <th>Age</th>\n",
       "      <th>EstimatedSalary</th>\n",
       "      <th>Purchased</th>\n",
       "    </tr>\n",
       "  </thead>\n",
       "  <tbody>\n",
       "    <tr>\n",
       "      <th>0</th>\n",
       "      <td>19</td>\n",
       "      <td>19000</td>\n",
       "      <td>0</td>\n",
       "    </tr>\n",
       "    <tr>\n",
       "      <th>1</th>\n",
       "      <td>35</td>\n",
       "      <td>20000</td>\n",
       "      <td>0</td>\n",
       "    </tr>\n",
       "    <tr>\n",
       "      <th>2</th>\n",
       "      <td>26</td>\n",
       "      <td>43000</td>\n",
       "      <td>0</td>\n",
       "    </tr>\n",
       "    <tr>\n",
       "      <th>3</th>\n",
       "      <td>27</td>\n",
       "      <td>57000</td>\n",
       "      <td>0</td>\n",
       "    </tr>\n",
       "    <tr>\n",
       "      <th>4</th>\n",
       "      <td>19</td>\n",
       "      <td>76000</td>\n",
       "      <td>0</td>\n",
       "    </tr>\n",
       "  </tbody>\n",
       "</table>\n",
       "</div>"
      ],
      "text/plain": [
       "   Age  EstimatedSalary  Purchased\n",
       "0   19            19000          0\n",
       "1   35            20000          0\n",
       "2   26            43000          0\n",
       "3   27            57000          0\n",
       "4   19            76000          0"
      ]
     },
     "metadata": {},
     "execution_count": 2
    }
   ],
   "metadata": {
    "_cell_guid": "79c7e3d0-c299-4dcb-8224-4455121ee9b0",
    "_uuid": "d629ff2d2480ee46fbb7e2d37f6b5fab8052498a",
    "colab": {
     "base_uri": "https://localhost:8080/",
     "height": 204
    },
    "id": "Y4rK9ffYcBEP",
    "outputId": "c03e12fe-cbb8-40c3-98a9-dd37ff5427df"
   }
  },
  {
   "cell_type": "code",
   "execution_count": 4,
   "source": [
    "# Declare label as last column in the source file\r\n",
    "Y = data.iloc[:,-1].values"
   ],
   "outputs": [],
   "metadata": {
    "_uuid": "4cb45e28344e7e245ab398e9f4f5272ef21d2129",
    "id": "jwuPgU6_cBE8"
   }
  },
  {
   "cell_type": "code",
   "execution_count": 5,
   "source": [
    "# Declaring X as all columns excluding last\r\n",
    "X = data.iloc[:,:-1].values"
   ],
   "outputs": [],
   "metadata": {
    "_uuid": "2e7a145fa49435ad9578ec2827f76a70cc99f2e1",
    "id": "2lhBrOp8cBFX"
   }
  },
  {
   "cell_type": "code",
   "execution_count": 6,
   "source": [
    "# Splitting data\r\n",
    "from sklearn.model_selection import train_test_split\r\n",
    "\r\n",
    "X_train, X_test, y_train, y_test = train_test_split(X, Y, test_size = 0.2, random_state = 88 )"
   ],
   "outputs": [],
   "metadata": {
    "_uuid": "dffb1f3e19e19964995ac827bf55108b5815ff67",
    "id": "t8nwbTn6cBFp"
   }
  },
  {
   "cell_type": "code",
   "execution_count": 7,
   "source": [
    "from sklearn.preprocessing import StandardScaler\r\n",
    "\r\n",
    "sc = StandardScaler()\r\n",
    "\r\n",
    "# Standardized the data\r\n",
    "X_train = sc.fit_transform(X_train)\r\n",
    "X_test = sc.transform(X_test)"
   ],
   "outputs": [],
   "metadata": {
    "_uuid": "7d4ed14782e114ae3282f20d3754121398e6d232",
    "id": "U4bUiVVFcBGD"
   }
  },
  {
   "cell_type": "code",
   "execution_count": 8,
   "source": [
    "#Variabes to calculate sigmoid function\r\n",
    "\r\n",
    "y_pred = []\r\n",
    "len_x = len(X_train[0])\r\n",
    "w = []\r\n",
    "b = 0.2\r\n",
    "print(len_x)"
   ],
   "outputs": [
    {
     "output_type": "stream",
     "name": "stdout",
     "text": [
      "2\n"
     ]
    }
   ],
   "metadata": {
    "_uuid": "2ff7415e3e0e0673d59051cfe6154c63d3312a32",
    "colab": {
     "base_uri": "https://localhost:8080/"
    },
    "id": "W5yGgzqbcBGc",
    "outputId": "74c08b45-b5d7-4ced-d1b5-e6bedf339962"
   }
  },
  {
   "cell_type": "code",
   "execution_count": 9,
   "source": [
    "entries = len(X_train[:,0])\r\n",
    "entries"
   ],
   "outputs": [
    {
     "output_type": "execute_result",
     "data": {
      "text/plain": [
       "320"
      ]
     },
     "metadata": {},
     "execution_count": 9
    }
   ],
   "metadata": {
    "_uuid": "a228174207f4631be4f26a0cc05e379f3f58aa56",
    "colab": {
     "base_uri": "https://localhost:8080/"
    },
    "id": "ZbqwTM0bcBGr",
    "outputId": "52d7d653-5175-40c4-dbfe-a40d01f573de"
   }
  },
  {
   "cell_type": "code",
   "execution_count": 10,
   "source": [
    "for weights in range(len_x):\r\n",
    "    w.append(0)\r\n",
    "w"
   ],
   "outputs": [
    {
     "output_type": "execute_result",
     "data": {
      "text/plain": [
       "[0, 0]"
      ]
     },
     "metadata": {},
     "execution_count": 10
    }
   ],
   "metadata": {
    "_uuid": "5d4d6e47ee65c9c7404e60fcf8f05c11708546b3",
    "colab": {
     "base_uri": "https://localhost:8080/"
    },
    "id": "vEV7Nn73cBG7",
    "outputId": "e0b6e7f2-3be6-4f93-d953-77f3ac5994da"
   }
  },
  {
   "cell_type": "code",
   "execution_count": 11,
   "source": [
    "# Sigmoid function\r\n",
    "\r\n",
    "def sigmoid(z):\r\n",
    "  res = (1/(1+np.exp(-z)))\r\n",
    "  return res"
   ],
   "outputs": [],
   "metadata": {
    "_uuid": "18dbd2196d72527a82d30ab88ed2aa8d10bd01ce",
    "id": "_fAtpylNcBHM"
   }
  },
  {
   "cell_type": "code",
   "execution_count": 12,
   "source": [
    "def predict(inputs):\r\n",
    "    res = sigmoid(np.dot(w,inputs)+b)\r\n",
    "    return res"
   ],
   "outputs": [],
   "metadata": {
    "_uuid": "daa0f87fdbf98591cb9f51b8dc7157dc399ca827",
    "id": "kfchkScTcBHd"
   }
  },
  {
   "cell_type": "code",
   "execution_count": 13,
   "source": [
    "# Loss function\r\n",
    "def loss_func(y,a):\r\n",
    "    J = -(y*np.log(a) + (1-y)*np.log(1-a))\r\n",
    "    return J       "
   ],
   "outputs": [],
   "metadata": {
    "_uuid": "4126f842d072ccd40019cc283b767a014e2ee074",
    "id": "K2ryTgglcBHt"
   }
  },
  {
   "cell_type": "code",
   "execution_count": 14,
   "source": [
    "dw = []\r\n",
    "db = 0\r\n",
    "J = 0\r\n",
    "alpha = 0.01\r\n",
    "for x in range(len_x):\r\n",
    "    dw.append(0)"
   ],
   "outputs": [],
   "metadata": {
    "_uuid": "fc0ceb65c69f4ee0c3f28e050744229dc90c621b",
    "id": "1KW3eDpmcBIA"
   }
  },
  {
   "cell_type": "code",
   "execution_count": 15,
   "source": [
    "#Repeating the process 3000 times\r\n",
    "for iterations in range(3000):\r\n",
    "    for i in range(entries):\r\n",
    "        tmp = X_train[i]\r\n",
    "        a = predict(tmp)   \r\n",
    "        dz = a - y_train[i]\r\n",
    "        J += loss_func(y_train[i],a)\r\n",
    "        for j in range(len_x):\r\n",
    "            dw[j] = dw[j]+(tmp[j]*dz)\r\n",
    "        db += dz\r\n",
    "    J = J/entries\r\n",
    "    db = db/entries\r\n",
    "    for x in range(len_x):\r\n",
    "        dw[x]=dw[x]/entries\r\n",
    "    for x in range(len_x):\r\n",
    "        w[x] = w[x]-(alpha*dw[x])\r\n",
    "    b = b-(alpha*db)         \r\n",
    "    J=0"
   ],
   "outputs": [],
   "metadata": {
    "_uuid": "e4be38e9b500ae0c5a7134296a3055675c4fb2d8",
    "id": "ipqdFLP3cBIO"
   }
  },
  {
   "cell_type": "code",
   "execution_count": 17,
   "source": [
    "# Print weight\r\n",
    "print(w)"
   ],
   "outputs": [
    {
     "output_type": "stream",
     "name": "stdout",
     "text": [
      "[1.8966766221664075, 0.8709416480435762]\n"
     ]
    }
   ],
   "metadata": {
    "_uuid": "5479ccb6073ed1ea310ef7de01b2935fc3ec400e",
    "colab": {
     "base_uri": "https://localhost:8080/"
    },
    "id": "7Q585AdrcBIs",
    "outputId": "1fa2d2b1-7ae8-481d-f235-5d521655a3cb"
   }
  },
  {
   "cell_type": "code",
   "execution_count": 18,
   "source": [
    "# Print bias\r\n",
    "print(b)"
   ],
   "outputs": [
    {
     "output_type": "stream",
     "name": "stdout",
     "text": [
      "-0.9749906979129866\n"
     ]
    }
   ],
   "metadata": {
    "_uuid": "a939c247b8a092f74c9843975612daa85c423621",
    "colab": {
     "base_uri": "https://localhost:8080/"
    },
    "id": "rEiF-bNHcBJB",
    "outputId": "fe21071d-39cc-4b3b-e005-44824aec4379"
   }
  },
  {
   "cell_type": "code",
   "execution_count": 19,
   "source": [
    "# Predicting the label\r\n",
    "\r\n",
    "for x in range(len(y_test)):\r\n",
    "    y_pred.append(predict(X_test[x]))"
   ],
   "outputs": [],
   "metadata": {
    "_uuid": "b7ae24169a21c7ac8ea0787f4a38a0de3e07a6b5",
    "id": "MPt5nUcpcBJR"
   }
  },
  {
   "cell_type": "code",
   "execution_count": 20,
   "source": [
    "# Print actual and predicted values in a table\r\n",
    "\r\n",
    "for x in range(len(y_pred)):\r\n",
    "    print('Actual ',y_test[x],' Predicted ',y_pred[x])\r\n",
    "    if y_pred[x]>=0.5:\r\n",
    "        y_pred[x]=1\r\n",
    "    else:\r\n",
    "        y_pred[x]=0"
   ],
   "outputs": [
    {
     "output_type": "stream",
     "name": "stdout",
     "text": [
      "Actual  0  Predicted  0.009131322164006113\n",
      "Actual  0  Predicted  0.42980786141679844\n",
      "Actual  1  Predicted  0.855068262776262\n",
      "Actual  0  Predicted  0.054056405989813164\n",
      "Actual  0  Predicted  0.19735413080829523\n",
      "Actual  1  Predicted  0.9257150511073425\n",
      "Actual  0  Predicted  0.17365572274696975\n",
      "Actual  0  Predicted  0.020632242494341833\n",
      "Actual  0  Predicted  0.29828061446425713\n",
      "Actual  0  Predicted  0.04808063135380515\n",
      "Actual  0  Predicted  0.046351556042430096\n",
      "Actual  0  Predicted  0.004691967632101076\n",
      "Actual  0  Predicted  0.3483136921607709\n",
      "Actual  0  Predicted  0.20562785913212492\n",
      "Actual  0  Predicted  0.15010878967286695\n",
      "Actual  0  Predicted  0.007461852214097005\n",
      "Actual  0  Predicted  0.0989320986421102\n",
      "Actual  1  Predicted  0.982133777544942\n",
      "Actual  0  Predicted  0.3081182337531949\n",
      "Actual  0  Predicted  0.17924112065195216\n",
      "Actual  0  Predicted  0.039410254732684974\n",
      "Actual  1  Predicted  0.4907991291767704\n",
      "Actual  0  Predicted  0.08090916467524507\n",
      "Actual  1  Predicted  0.8540580696904961\n",
      "Actual  0  Predicted  0.30009646869454715\n",
      "Actual  1  Predicted  0.6916542945591925\n",
      "Actual  0  Predicted  0.14743442049620958\n",
      "Actual  0  Predicted  0.663877231794121\n",
      "Actual  0  Predicted  0.02279273202302569\n",
      "Actual  1  Predicted  0.19795642875412736\n",
      "Actual  0  Predicted  0.044175435495478185\n",
      "Actual  0  Predicted  0.011314505444544\n",
      "Actual  0  Predicted  0.01441458118972944\n",
      "Actual  0  Predicted  0.06758099556747406\n",
      "Actual  0  Predicted  0.07724203757475515\n",
      "Actual  0  Predicted  0.3639544280383081\n",
      "Actual  0  Predicted  0.3639544280383081\n",
      "Actual  0  Predicted  0.5438806388813424\n",
      "Actual  1  Predicted  0.5383724207319456\n",
      "Actual  1  Predicted  0.28156585028700576\n",
      "Actual  1  Predicted  0.9336716406652974\n",
      "Actual  0  Predicted  0.011314505444544\n",
      "Actual  0  Predicted  0.07844716949003568\n",
      "Actual  0  Predicted  0.022804590853587606\n",
      "Actual  1  Predicted  0.9760970066865946\n",
      "Actual  1  Predicted  0.9184044372366443\n",
      "Actual  1  Predicted  0.8847905254562398\n",
      "Actual  0  Predicted  0.775649990461854\n",
      "Actual  1  Predicted  0.4751127928542002\n",
      "Actual  1  Predicted  0.3827015174149104\n",
      "Actual  1  Predicted  0.5542061726214608\n",
      "Actual  0  Predicted  0.22051298985872345\n",
      "Actual  1  Predicted  0.7190938133991982\n",
      "Actual  0  Predicted  0.012097266642875509\n",
      "Actual  0  Predicted  0.04964093588098598\n",
      "Actual  0  Predicted  0.3847495172421907\n",
      "Actual  0  Predicted  0.004098184871634017\n",
      "Actual  0  Predicted  0.21397679503547748\n",
      "Actual  1  Predicted  0.5648776700996353\n",
      "Actual  1  Predicted  0.9810680337233129\n",
      "Actual  1  Predicted  0.5258336791594937\n",
      "Actual  1  Predicted  0.4939129528130405\n",
      "Actual  1  Predicted  0.22929184609395797\n",
      "Actual  0  Predicted  0.7308612727794602\n",
      "Actual  1  Predicted  0.9633428507294493\n",
      "Actual  1  Predicted  0.5835413979581153\n",
      "Actual  1  Predicted  0.6933850507609582\n",
      "Actual  0  Predicted  0.23850664284677492\n",
      "Actual  1  Predicted  0.9363034400561253\n",
      "Actual  1  Predicted  0.5885355358955925\n",
      "Actual  0  Predicted  0.1395833582901979\n",
      "Actual  1  Predicted  0.9761978288525076\n",
      "Actual  0  Predicted  0.026803813105063665\n",
      "Actual  1  Predicted  0.8775948246905103\n",
      "Actual  0  Predicted  0.26154176774976967\n",
      "Actual  1  Predicted  0.6513232368926816\n",
      "Actual  0  Predicted  0.009014530930924022\n",
      "Actual  1  Predicted  0.5005409928053083\n",
      "Actual  0  Predicted  0.3219022782180107\n",
      "Actual  1  Predicted  0.8072373828811051\n"
     ]
    }
   ],
   "metadata": {
    "_uuid": "967ad1b72305ad792a5d50e4d8b8a07632f7b241",
    "colab": {
     "base_uri": "https://localhost:8080/"
    },
    "id": "79HPPz7jcBJg",
    "outputId": "df439b89-5453-4850-eb20-adbb246a4234",
    "scrolled": false
   }
  },
  {
   "cell_type": "code",
   "execution_count": 21,
   "source": [
    "# Calculating accuracy of prediction\r\n",
    "\r\n",
    "count = 0\r\n",
    "for x in range(len(y_pred)):\r\n",
    "    if(y_pred[x]==y_test[x]):\r\n",
    "        count=count+1\r\n",
    "print('Accuracy:',(count/(len(y_pred)))*100)"
   ],
   "outputs": [
    {
     "output_type": "stream",
     "name": "stdout",
     "text": [
      "Accuracy: 86.25\n"
     ]
    }
   ],
   "metadata": {
    "_uuid": "a59807150900082ab876ef0200c6c7f8f93e098c",
    "colab": {
     "base_uri": "https://localhost:8080/"
    },
    "id": "sdZDj_iVcBJt",
    "outputId": "58ff3d1d-6f75-4bc2-bb6d-a393053c8724"
   }
  },
  {
   "cell_type": "markdown",
   "source": [
    "# Using sklearn LogisticRegression model"
   ],
   "metadata": {
    "id": "x6nmajpzhAEn"
   }
  },
  {
   "cell_type": "code",
   "execution_count": 22,
   "source": [
    "# Fitting Logistic Regression to the Training set\r\n",
    "from sklearn.linear_model import LogisticRegression\r\n",
    "LR = LogisticRegression(random_state = 0)\r\n",
    "\r\n",
    "#Fit\r\n",
    "LR.fit(X_train, y_train)\r\n",
    "\r\n",
    "#predicting the test label with LR. Predict always takes X as input\r\n",
    "y_pred=LR.predict(X_test)\r\n",
    "print(y_pred)"
   ],
   "outputs": [
    {
     "output_type": "stream",
     "name": "stdout",
     "text": [
      "[0 0 1 0 0 1 0 0 0 0 0 0 0 0 0 0 0 1 0 0 0 0 0 1 0 1 0 1 0 0 0 0 0 0 0 0 0\n",
      " 1 1 0 1 0 0 0 1 1 1 1 0 0 1 0 1 0 0 0 0 0 1 1 1 0 0 1 1 1 1 0 1 1 0 1 0 1\n",
      " 0 1 0 1 0 1]\n"
     ]
    }
   ],
   "metadata": {
    "_kg_hide-output": true,
    "_uuid": "9aaade066015e04f20dd7eb1d37339be75ca3836",
    "colab": {
     "base_uri": "https://localhost:8080/"
    },
    "id": "iG-BK4i9cBKH",
    "outputId": "aed520ba-6f9c-4d02-8dbe-044530cd8ed3"
   }
  },
  {
   "cell_type": "code",
   "execution_count": 23,
   "source": [
    "count = 0\r\n",
    "for x in range(len(y_pred)):\r\n",
    "    if(y_pred[x]==y_test[x]):\r\n",
    "        count=count+1\r\n",
    "print('Accuracy:',(count/(len(y_pred)))*100)"
   ],
   "outputs": [
    {
     "output_type": "stream",
     "name": "stdout",
     "text": [
      "Accuracy: 86.25\n"
     ]
    }
   ],
   "metadata": {
    "colab": {
     "base_uri": "https://localhost:8080/"
    },
    "id": "OskWLpP1VwFR",
    "outputId": "d3680171-b92c-4a48-efad-7c7402f79f1e"
   }
  }
 ],
 "metadata": {
  "orig_nbformat": 4,
  "language_info": {
   "name": "python",
   "version": "3.9.2",
   "mimetype": "text/x-python",
   "codemirror_mode": {
    "name": "ipython",
    "version": 3
   },
   "pygments_lexer": "ipython3",
   "nbconvert_exporter": "python",
   "file_extension": ".py"
  },
  "kernelspec": {
   "name": "python3",
   "display_name": "Python 3.9.2 64-bit"
  },
  "interpreter": {
   "hash": "5d3bdf297df944d34b1a97ad44b06b41afb7df81ac17206bbaaada21786479bf"
  }
 },
 "nbformat": 4,
 "nbformat_minor": 2
}