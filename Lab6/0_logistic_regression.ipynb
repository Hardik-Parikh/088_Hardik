{
 "cells": [
  {
   "cell_type": "markdown",
   "source": [
    "## Import necessary libraries."
   ],
   "metadata": {}
  },
  {
   "cell_type": "code",
   "execution_count": 47,
   "source": [
    "import numpy as np \r\n",
    "import pandas as pd \r\n",
    "import io\r\n",
    "import matplotlib.pyplot as plt"
   ],
   "outputs": [],
   "metadata": {
    "_cell_guid": "b1076dfc-b9ad-4769-8c92-a6c4dae69d19",
    "_uuid": "8f2839f25d086af736a60e9eeb907d3b93b6e0e5",
    "id": "hfV503AtcBDp"
   }
  },
  {
   "cell_type": "code",
   "execution_count": 48,
   "source": [
    "# reading the csv file, del 2 columns from the file \r\n",
    "# checking first few rows of the file\r\n",
    "\r\n",
    "data = pd.read_csv('BuyComputer.csv')\r\n",
    "\r\n",
    "data.drop(columns=['User ID',],axis=1,inplace=True)\r\n",
    "data.head()"
   ],
   "outputs": [
    {
     "output_type": "execute_result",
     "data": {
      "text/html": [
       "<div>\n",
       "<style scoped>\n",
       "    .dataframe tbody tr th:only-of-type {\n",
       "        vertical-align: middle;\n",
       "    }\n",
       "\n",
       "    .dataframe tbody tr th {\n",
       "        vertical-align: top;\n",
       "    }\n",
       "\n",
       "    .dataframe thead th {\n",
       "        text-align: right;\n",
       "    }\n",
       "</style>\n",
       "<table border=\"1\" class=\"dataframe\">\n",
       "  <thead>\n",
       "    <tr style=\"text-align: right;\">\n",
       "      <th></th>\n",
       "      <th>Age</th>\n",
       "      <th>EstimatedSalary</th>\n",
       "      <th>Purchased</th>\n",
       "    </tr>\n",
       "  </thead>\n",
       "  <tbody>\n",
       "    <tr>\n",
       "      <th>0</th>\n",
       "      <td>19</td>\n",
       "      <td>19000</td>\n",
       "      <td>0</td>\n",
       "    </tr>\n",
       "    <tr>\n",
       "      <th>1</th>\n",
       "      <td>35</td>\n",
       "      <td>20000</td>\n",
       "      <td>0</td>\n",
       "    </tr>\n",
       "    <tr>\n",
       "      <th>2</th>\n",
       "      <td>26</td>\n",
       "      <td>43000</td>\n",
       "      <td>0</td>\n",
       "    </tr>\n",
       "    <tr>\n",
       "      <th>3</th>\n",
       "      <td>27</td>\n",
       "      <td>57000</td>\n",
       "      <td>0</td>\n",
       "    </tr>\n",
       "    <tr>\n",
       "      <th>4</th>\n",
       "      <td>19</td>\n",
       "      <td>76000</td>\n",
       "      <td>0</td>\n",
       "    </tr>\n",
       "  </tbody>\n",
       "</table>\n",
       "</div>"
      ],
      "text/plain": [
       "   Age  EstimatedSalary  Purchased\n",
       "0   19            19000          0\n",
       "1   35            20000          0\n",
       "2   26            43000          0\n",
       "3   27            57000          0\n",
       "4   19            76000          0"
      ]
     },
     "metadata": {},
     "execution_count": 48
    }
   ],
   "metadata": {
    "_cell_guid": "79c7e3d0-c299-4dcb-8224-4455121ee9b0",
    "_uuid": "d629ff2d2480ee46fbb7e2d37f6b5fab8052498a",
    "colab": {
     "base_uri": "https://localhost:8080/",
     "height": 204
    },
    "id": "Y4rK9ffYcBEP",
    "outputId": "c03e12fe-cbb8-40c3-98a9-dd37ff5427df"
   }
  },
  {
   "cell_type": "code",
   "execution_count": 49,
   "source": [
    "# Declare label as last column in the source file\r\n",
    "Y = data.iloc[:,-1].values"
   ],
   "outputs": [],
   "metadata": {
    "_uuid": "4cb45e28344e7e245ab398e9f4f5272ef21d2129",
    "id": "jwuPgU6_cBE8"
   }
  },
  {
   "cell_type": "code",
   "execution_count": 50,
   "source": [
    "# Declaring X as all columns excluding last\r\n",
    "X = data.iloc[:,:-1].values"
   ],
   "outputs": [],
   "metadata": {
    "_uuid": "2e7a145fa49435ad9578ec2827f76a70cc99f2e1",
    "id": "2lhBrOp8cBFX"
   }
  },
  {
   "cell_type": "code",
   "execution_count": 51,
   "source": [
    "# Splitting data\r\n",
    "from sklearn.model_selection import train_test_split\r\n",
    "\r\n",
    "X_train, X_test, y_train, y_test = train_test_split(X, Y, test_size = 0.3, random_state = 88 )"
   ],
   "outputs": [],
   "metadata": {
    "_uuid": "dffb1f3e19e19964995ac827bf55108b5815ff67",
    "id": "t8nwbTn6cBFp"
   }
  },
  {
   "cell_type": "code",
   "execution_count": 52,
   "source": [
    "from sklearn.preprocessing import StandardScaler\r\n",
    "\r\n",
    "sc = StandardScaler()\r\n",
    "\r\n",
    "# Standardized the data\r\n",
    "X_train = sc.fit_transform(X_train)\r\n",
    "X_test = sc.transform(X_test)"
   ],
   "outputs": [],
   "metadata": {
    "_uuid": "7d4ed14782e114ae3282f20d3754121398e6d232",
    "id": "U4bUiVVFcBGD"
   }
  },
  {
   "cell_type": "code",
   "execution_count": 53,
   "source": [
    "#Variabes to calculate sigmoid function\r\n",
    "\r\n",
    "y_pred = []\r\n",
    "len_x = len(X_train[0])\r\n",
    "w = []\r\n",
    "b = 0.2\r\n",
    "print(len_x)"
   ],
   "outputs": [
    {
     "output_type": "stream",
     "name": "stdout",
     "text": [
      "2\n"
     ]
    }
   ],
   "metadata": {
    "_uuid": "2ff7415e3e0e0673d59051cfe6154c63d3312a32",
    "colab": {
     "base_uri": "https://localhost:8080/"
    },
    "id": "W5yGgzqbcBGc",
    "outputId": "74c08b45-b5d7-4ced-d1b5-e6bedf339962"
   }
  },
  {
   "cell_type": "code",
   "execution_count": 54,
   "source": [
    "entries = len(X_train[:,0])\r\n",
    "entries"
   ],
   "outputs": [
    {
     "output_type": "execute_result",
     "data": {
      "text/plain": [
       "280"
      ]
     },
     "metadata": {},
     "execution_count": 54
    }
   ],
   "metadata": {
    "_uuid": "a228174207f4631be4f26a0cc05e379f3f58aa56",
    "colab": {
     "base_uri": "https://localhost:8080/"
    },
    "id": "ZbqwTM0bcBGr",
    "outputId": "52d7d653-5175-40c4-dbfe-a40d01f573de"
   }
  },
  {
   "cell_type": "code",
   "execution_count": 55,
   "source": [
    "for weights in range(len_x):\r\n",
    "    w.append(0)\r\n",
    "w"
   ],
   "outputs": [
    {
     "output_type": "execute_result",
     "data": {
      "text/plain": [
       "[0, 0]"
      ]
     },
     "metadata": {},
     "execution_count": 55
    }
   ],
   "metadata": {
    "_uuid": "5d4d6e47ee65c9c7404e60fcf8f05c11708546b3",
    "colab": {
     "base_uri": "https://localhost:8080/"
    },
    "id": "vEV7Nn73cBG7",
    "outputId": "e0b6e7f2-3be6-4f93-d953-77f3ac5994da"
   }
  },
  {
   "cell_type": "code",
   "execution_count": 56,
   "source": [
    "# Sigmoid function\r\n",
    "\r\n",
    "def sigmoid(z):\r\n",
    "  res = (1/(1+np.exp(-z)))\r\n",
    "  return res"
   ],
   "outputs": [],
   "metadata": {
    "_uuid": "18dbd2196d72527a82d30ab88ed2aa8d10bd01ce",
    "id": "_fAtpylNcBHM"
   }
  },
  {
   "cell_type": "code",
   "execution_count": 57,
   "source": [
    "def predict(inputs):\r\n",
    "    res = sigmoid(np.dot(w,inputs)+b)\r\n",
    "    return res"
   ],
   "outputs": [],
   "metadata": {
    "_uuid": "daa0f87fdbf98591cb9f51b8dc7157dc399ca827",
    "id": "kfchkScTcBHd"
   }
  },
  {
   "cell_type": "code",
   "execution_count": 58,
   "source": [
    "# Loss function\r\n",
    "\r\n",
    "def loss_func(y,a):\r\n",
    "    J = -(y*np.log(a) + (1-y)*np.log(1-a))\r\n",
    "    return J       "
   ],
   "outputs": [],
   "metadata": {
    "_uuid": "4126f842d072ccd40019cc283b767a014e2ee074",
    "id": "K2ryTgglcBHt"
   }
  },
  {
   "cell_type": "code",
   "execution_count": 59,
   "source": [
    "dw = []\r\n",
    "db = 0\r\n",
    "J = 0\r\n",
    "alpha = 0.01\r\n",
    "for x in range(len_x):\r\n",
    "    dw.append(0)"
   ],
   "outputs": [],
   "metadata": {
    "_uuid": "fc0ceb65c69f4ee0c3f28e050744229dc90c621b",
    "id": "1KW3eDpmcBIA"
   }
  },
  {
   "cell_type": "code",
   "execution_count": 60,
   "source": [
    "#Repeating the process 3000 times\r\n",
    "\r\n",
    "for iterations in range(3000):\r\n",
    "    for i in range(entries):\r\n",
    "        tmp = X_train[i]\r\n",
    "        a = predict(tmp)   \r\n",
    "        dz = a - y_train[i]\r\n",
    "        J += loss_func(y_train[i],a)\r\n",
    "        for j in range(len_x):\r\n",
    "            dw[j] = dw[j]+(tmp[j]*dz)\r\n",
    "        db += dz\r\n",
    "    J = J/entries\r\n",
    "    db = db/entries\r\n",
    "    for x in range(len_x):\r\n",
    "        dw[x]=dw[x]/entries\r\n",
    "    for x in range(len_x):\r\n",
    "        w[x] = w[x]-(alpha*dw[x])\r\n",
    "    b = b-(alpha*db)         \r\n",
    "    J=0"
   ],
   "outputs": [],
   "metadata": {
    "_uuid": "e4be38e9b500ae0c5a7134296a3055675c4fb2d8",
    "id": "ipqdFLP3cBIO"
   }
  },
  {
   "cell_type": "code",
   "execution_count": 61,
   "source": [
    "# Print weight\r\n",
    "print(w)"
   ],
   "outputs": [
    {
     "output_type": "stream",
     "name": "stdout",
     "text": [
      "[1.8403204699558908, 0.877159931572539]\n"
     ]
    }
   ],
   "metadata": {
    "_uuid": "5479ccb6073ed1ea310ef7de01b2935fc3ec400e",
    "colab": {
     "base_uri": "https://localhost:8080/"
    },
    "id": "7Q585AdrcBIs",
    "outputId": "1fa2d2b1-7ae8-481d-f235-5d521655a3cb"
   }
  },
  {
   "cell_type": "code",
   "execution_count": 62,
   "source": [
    "# Print bias\r\n",
    "print(b)"
   ],
   "outputs": [
    {
     "output_type": "stream",
     "name": "stdout",
     "text": [
      "-1.0686426971351664\n"
     ]
    }
   ],
   "metadata": {
    "_uuid": "a939c247b8a092f74c9843975612daa85c423621",
    "colab": {
     "base_uri": "https://localhost:8080/"
    },
    "id": "rEiF-bNHcBJB",
    "outputId": "fe21071d-39cc-4b3b-e005-44824aec4379"
   }
  },
  {
   "cell_type": "code",
   "execution_count": 63,
   "source": [
    "# Predicting the label\r\n",
    "\r\n",
    "for x in range(len(y_test)):\r\n",
    "    y_pred.append(predict(X_test[x]))"
   ],
   "outputs": [],
   "metadata": {
    "_uuid": "b7ae24169a21c7ac8ea0787f4a38a0de3e07a6b5",
    "id": "MPt5nUcpcBJR"
   }
  },
  {
   "cell_type": "code",
   "execution_count": 64,
   "source": [
    "# Print actual and predicted values in a table\r\n",
    "\r\n",
    "for x in range(len(y_pred)):\r\n",
    "    print('Actual ',y_test[x],' Predicted ',y_pred[x])\r\n",
    "    if y_pred[x]>=0.5:\r\n",
    "        y_pred[x]=1\r\n",
    "    else:\r\n",
    "        y_pred[x]=0"
   ],
   "outputs": [
    {
     "output_type": "stream",
     "name": "stdout",
     "text": [
      "Actual  0  Predicted  0.009482330471723964\n",
      "Actual  0  Predicted  0.4061738507783041\n",
      "Actual  1  Predicted  0.8396495096563865\n",
      "Actual  0  Predicted  0.05162554702577275\n",
      "Actual  0  Predicted  0.19022264805368275\n",
      "Actual  1  Predicted  0.9045297432818331\n",
      "Actual  0  Predicted  0.16847826324261386\n",
      "Actual  0  Predicted  0.022520695143707473\n",
      "Actual  0  Predicted  0.2835043575262725\n",
      "Actual  0  Predicted  0.04851050435504818\n",
      "Actual  0  Predicted  0.04837123260781004\n",
      "Actual  0  Predicted  0.004930121414390111\n",
      "Actual  0  Predicted  0.33317370933516666\n",
      "Actual  0  Predicted  0.18717967248152145\n",
      "Actual  0  Predicted  0.14362251720765407\n",
      "Actual  0  Predicted  0.007720261799898169\n",
      "Actual  0  Predicted  0.09783193724980643\n",
      "Actual  1  Predicted  0.9782979125267435\n",
      "Actual  0  Predicted  0.2957389293941763\n",
      "Actual  0  Predicted  0.16890197254624734\n",
      "Actual  0  Predicted  0.040079916185153504\n",
      "Actual  1  Predicted  0.4736891514227513\n",
      "Actual  0  Predicted  0.08329649035512482\n",
      "Actual  1  Predicted  0.8319025458411838\n",
      "Actual  0  Predicted  0.28041372956208105\n",
      "Actual  1  Predicted  0.6616523569857522\n",
      "Actual  0  Predicted  0.13954483901454767\n",
      "Actual  0  Predicted  0.6320605668457957\n",
      "Actual  0  Predicted  0.024919659193540444\n",
      "Actual  1  Predicted  0.20029043378022449\n",
      "Actual  0  Predicted  0.04299082182504933\n",
      "Actual  0  Predicted  0.011381302469430421\n",
      "Actual  0  Predicted  0.016013888379270143\n",
      "Actual  0  Predicted  0.06340434269208836\n",
      "Actual  0  Predicted  0.07433473992570731\n",
      "Actual  0  Predicted  0.3379245135106471\n",
      "Actual  0  Predicted  0.3379245135106471\n",
      "Actual  0  Predicted  0.503758947150187\n",
      "Actual  1  Predicted  0.5311886914457074\n",
      "Actual  1  Predicted  0.2838274271952187\n",
      "Actual  1  Predicted  0.9261682012346923\n",
      "Actual  0  Predicted  0.011381302469430421\n",
      "Actual  0  Predicted  0.0772188328392238\n",
      "Actual  0  Predicted  0.023235151632615855\n",
      "Actual  1  Predicted  0.9721808753702444\n",
      "Actual  1  Predicted  0.895193193664293\n",
      "Actual  1  Predicted  0.8615041054842487\n",
      "Actual  0  Predicted  0.7523722633890222\n",
      "Actual  1  Predicted  0.4310139058112164\n",
      "Actual  1  Predicted  0.370350523475656\n",
      "Actual  1  Predicted  0.5383888752029152\n",
      "Actual  0  Predicted  0.20720384473603765\n",
      "Actual  1  Predicted  0.6728087533858014\n",
      "Actual  0  Predicted  0.012477016392603011\n",
      "Actual  0  Predicted  0.052457065029399404\n",
      "Actual  0  Predicted  0.3667978156712526\n",
      "Actual  0  Predicted  0.004399815203098199\n",
      "Actual  0  Predicted  0.20670794875985019\n",
      "Actual  1  Predicted  0.5193728316209885\n",
      "Actual  1  Predicted  0.97587568188928\n",
      "Actual  1  Predicted  0.5003400882090459\n",
      "Actual  1  Predicted  0.4858731735279586\n",
      "Actual  1  Predicted  0.22823461741081064\n",
      "Actual  0  Predicted  0.6961872768199249\n",
      "Actual  1  Predicted  0.9550721360700302\n",
      "Actual  1  Predicted  0.5387446304124347\n",
      "Actual  1  Predicted  0.674172419272633\n",
      "Actual  0  Predicted  0.22475233757004945\n",
      "Actual  1  Predicted  0.9207760491522559\n",
      "Actual  1  Predicted  0.5647737875045454\n",
      "Actual  0  Predicted  0.13610590606953826\n",
      "Actual  1  Predicted  0.9719736984978329\n",
      "Actual  0  Predicted  0.0264431597302304\n",
      "Actual  1  Predicted  0.8674096895117673\n",
      "Actual  0  Predicted  0.24956171922715653\n",
      "Actual  1  Predicted  0.6384346902415028\n",
      "Actual  0  Predicted  0.009699835757689781\n",
      "Actual  1  Predicted  0.4566004765385929\n",
      "Actual  0  Predicted  0.30180217943016185\n",
      "Actual  1  Predicted  0.7681917276042286\n",
      "Actual  0  Predicted  0.0933509372699915\n",
      "Actual  0  Predicted  0.18010008563967578\n",
      "Actual  1  Predicted  0.3141371507250762\n",
      "Actual  1  Predicted  0.8569068537813361\n",
      "Actual  1  Predicted  0.33183251990526114\n",
      "Actual  1  Predicted  0.27277782800814726\n",
      "Actual  0  Predicted  0.031031882375975154\n",
      "Actual  1  Predicted  0.6510000514112528\n",
      "Actual  0  Predicted  0.022520695143707473\n",
      "Actual  0  Predicted  0.1357510309815657\n",
      "Actual  0  Predicted  0.46798407748897686\n",
      "Actual  1  Predicted  0.5523452680674266\n",
      "Actual  1  Predicted  0.21125540562180586\n",
      "Actual  0  Predicted  0.017732303977907066\n",
      "Actual  0  Predicted  0.3818047456838935\n",
      "Actual  0  Predicted  0.23118905443745016\n",
      "Actual  1  Predicted  0.9433633558220353\n",
      "Actual  0  Predicted  0.09093010118606462\n",
      "Actual  0  Predicted  0.28041372956208105\n",
      "Actual  0  Predicted  0.4017707449919513\n",
      "Actual  1  Predicted  0.508330018056187\n",
      "Actual  1  Predicted  0.4373815554082299\n",
      "Actual  1  Predicted  0.8463001561120852\n",
      "Actual  0  Predicted  0.20670794875985019\n",
      "Actual  0  Predicted  0.331480099084838\n",
      "Actual  1  Predicted  0.7791605528390361\n",
      "Actual  0  Predicted  0.0267188305919296\n",
      "Actual  0  Predicted  0.16741166071026078\n",
      "Actual  0  Predicted  0.11244259798841139\n",
      "Actual  1  Predicted  0.4675882490605673\n",
      "Actual  0  Predicted  0.22422632160021827\n",
      "Actual  1  Predicted  0.9201122999982019\n",
      "Actual  0  Predicted  0.2909921092902266\n",
      "Actual  1  Predicted  0.5296441103118675\n",
      "Actual  1  Predicted  0.3427082448278235\n",
      "Actual  0  Predicted  0.011676671475043946\n",
      "Actual  1  Predicted  0.5402852658299454\n",
      "Actual  0  Predicted  0.39810719955958385\n",
      "Actual  1  Predicted  0.7067425352774823\n",
      "Actual  0  Predicted  0.038525036340745875\n"
     ]
    }
   ],
   "metadata": {
    "_uuid": "967ad1b72305ad792a5d50e4d8b8a07632f7b241",
    "colab": {
     "base_uri": "https://localhost:8080/"
    },
    "id": "79HPPz7jcBJg",
    "outputId": "df439b89-5453-4850-eb20-adbb246a4234",
    "scrolled": false
   }
  },
  {
   "cell_type": "code",
   "execution_count": 65,
   "source": [
    "# Calculating accuracy of prediction\r\n",
    "\r\n",
    "count = 0\r\n",
    "for x in range(len(y_pred)):\r\n",
    "    if(y_pred[x]==y_test[x]):\r\n",
    "        count=count+1\r\n",
    "print('Accuracy:',(count/(len(y_pred)))*100)"
   ],
   "outputs": [
    {
     "output_type": "stream",
     "name": "stdout",
     "text": [
      "Accuracy: 84.16666666666667\n"
     ]
    }
   ],
   "metadata": {
    "_uuid": "a59807150900082ab876ef0200c6c7f8f93e098c",
    "colab": {
     "base_uri": "https://localhost:8080/"
    },
    "id": "sdZDj_iVcBJt",
    "outputId": "58ff3d1d-6f75-4bc2-bb6d-a393053c8724"
   }
  },
  {
   "cell_type": "markdown",
   "source": [
    "# Using sklearn LogisticRegression model"
   ],
   "metadata": {
    "id": "x6nmajpzhAEn"
   }
  },
  {
   "cell_type": "code",
   "execution_count": 66,
   "source": [
    "# Fitting Logistic Regression to the Training set\r\n",
    "from sklearn.linear_model import LogisticRegression\r\n",
    "LR = LogisticRegression(random_state = 88)\r\n",
    "\r\n",
    "#Fit\r\n",
    "LR.fit(X_train, y_train)\r\n",
    "\r\n",
    "#predicting the test label with LR. Predict always takes X as input\r\n",
    "y_pred=LR.predict(X_test)\r\n",
    "print(y_pred)"
   ],
   "outputs": [
    {
     "output_type": "stream",
     "name": "stdout",
     "text": [
      "[0 0 1 0 0 1 0 0 0 0 0 0 0 0 0 0 0 1 0 0 0 0 0 1 0 1 0 1 0 0 0 0 0 0 0 0 0\n",
      " 1 1 0 1 0 0 0 1 1 1 1 0 0 1 0 1 0 0 0 0 0 1 1 0 0 0 1 1 1 1 0 1 1 0 1 0 1\n",
      " 0 1 0 0 0 1 0 0 0 1 0 0 0 1 0 0 0 1 0 0 0 0 1 0 0 0 1 0 1 0 0 1 0 0 0 0 0\n",
      " 1 0 1 0 0 1 0 1 0]\n"
     ]
    }
   ],
   "metadata": {
    "_kg_hide-output": true,
    "_uuid": "9aaade066015e04f20dd7eb1d37339be75ca3836",
    "colab": {
     "base_uri": "https://localhost:8080/"
    },
    "id": "iG-BK4i9cBKH",
    "outputId": "aed520ba-6f9c-4d02-8dbe-044530cd8ed3"
   }
  },
  {
   "cell_type": "code",
   "execution_count": 67,
   "source": [
    "count = 0\r\n",
    "for x in range(len(y_pred)):\r\n",
    "    if(y_pred[x]==y_test[x]):\r\n",
    "        count=count+1\r\n",
    "print('Accuracy:',(count/(len(y_pred)))*100)"
   ],
   "outputs": [
    {
     "output_type": "stream",
     "name": "stdout",
     "text": [
      "Accuracy: 83.33333333333334\n"
     ]
    }
   ],
   "metadata": {
    "colab": {
     "base_uri": "https://localhost:8080/"
    },
    "id": "OskWLpP1VwFR",
    "outputId": "d3680171-b92c-4a48-efad-7c7402f79f1e"
   }
  },
  {
   "cell_type": "markdown",
   "source": [
    "**Exercise:**\r\n",
    "\r\n",
    "Try logistic regression on BuyComputer dataset and set Random state=Your_RollNumber (last 3 digit of ID, incase if you don't have ID)"
   ],
   "metadata": {
    "id": "Y8sYVBu-iSW-"
   }
  }
 ],
 "metadata": {
  "colab": {
   "collapsed_sections": [],
   "name": "0_logistic_regression.ipynb",
   "provenance": []
  },
  "kernelspec": {
   "name": "python3",
   "display_name": "Python 3.9.2 64-bit"
  },
  "language_info": {
   "codemirror_mode": {
    "name": "ipython",
    "version": 3
   },
   "file_extension": ".py",
   "mimetype": "text/x-python",
   "name": "python",
   "nbconvert_exporter": "python",
   "pygments_lexer": "ipython3",
   "version": "3.9.2"
  },
  "interpreter": {
   "hash": "5d3bdf297df944d34b1a97ad44b06b41afb7df81ac17206bbaaada21786479bf"
  }
 },
 "nbformat": 4,
 "nbformat_minor": 1
}